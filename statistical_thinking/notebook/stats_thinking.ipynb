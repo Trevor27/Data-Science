{
 "cells": [
  {
   "cell_type": "markdown",
   "metadata": {},
   "source": [
    "## Introduction"
   ]
  },
  {
   "cell_type": "markdown",
   "metadata": {},
   "source": [
    "### Statistical thinking"
   ]
  },
  {
   "cell_type": "markdown",
   "metadata": {},
   "source": [
    "The Millennium Development Goals were a set of 8 goals for 2015 that were defined by the United Nations to help improve living conditions and the conditions of our planet. Key indicators were defined for each of these goals, to see whether they were being met. We will have a look at some of the key indicators from Goal 7: Ensure environmental sustainability, namely carbon dioxide (CO2) emissions, protected land and sea areas, and forests. The full dataset can be found at http://mdgs.un.org/. \n",
    "\n",
    "In this dataset, the aim is to:\n",
    "- find measures of central tendency and spread.\n",
    "- describe different distributions and interpret a histogram.\n",
    "- find outliers and how they affect measures of central tendency and spread.\n",
    "- interpret correlations from a graph and from the correlation coefficient."
   ]
  },
  {
   "cell_type": "markdown",
   "metadata": {},
   "source": [
    "#### Importing modules"
   ]
  },
  {
   "cell_type": "code",
   "execution_count": 1,
   "metadata": {},
   "outputs": [],
   "source": [
    "import pandas as pd\n",
    "import numpy as np\n",
    "import matplotlib.pyplot as plt\n",
    "import seaborn as sns\n",
    "import matplotlib as mpl\n",
    "import scipy as sp\n",
    "import scipy.special as sps\n",
    "from scipy.stats import stats\n",
    "from scipy.stats import sem\n",
    "from scipy.stats import iqr\n",
    "from scipy.stats import pearsonr\n",
    "from scipy.stats import spearmanr"
   ]
  },
  {
   "cell_type": "markdown",
   "metadata": {},
   "source": [
    "#### Global settings"
   ]
  },
  {
   "cell_type": "code",
   "execution_count": 2,
   "metadata": {},
   "outputs": [],
   "source": [
    "sns.set(rc={'figure.figsize':(12,8), 'axes.titleweight':'bold', 'axes.labelweight':'bold'}, font_scale = 2)"
   ]
  },
  {
   "cell_type": "markdown",
   "metadata": {},
   "source": [
    "## Data Exploration"
   ]
  },
  {
   "cell_type": "markdown",
   "metadata": {},
   "source": [
    "#### Exploring the dataset"
   ]
  },
  {
   "cell_type": "code",
   "execution_count": 3,
   "metadata": {},
   "outputs": [
    {
     "data": {
      "text/html": [
       "<div>\n",
       "<style scoped>\n",
       "    .dataframe tbody tr th:only-of-type {\n",
       "        vertical-align: middle;\n",
       "    }\n",
       "\n",
       "    .dataframe tbody tr th {\n",
       "        vertical-align: top;\n",
       "    }\n",
       "\n",
       "    .dataframe thead th {\n",
       "        text-align: right;\n",
       "    }\n",
       "</style>\n",
       "<table border=\"1\" class=\"dataframe\">\n",
       "  <thead>\n",
       "    <tr style=\"text-align: right;\">\n",
       "      <th></th>\n",
       "      <th>CountryCode</th>\n",
       "      <th>Country</th>\n",
       "      <th>SeriesCode</th>\n",
       "      <th>MDG</th>\n",
       "      <th>Series</th>\n",
       "      <th>1990</th>\n",
       "      <th>Footnotes</th>\n",
       "      <th>Type</th>\n",
       "      <th>1991</th>\n",
       "      <th>Footnotes.1</th>\n",
       "      <th>...</th>\n",
       "      <th>Type.26</th>\n",
       "      <th>2017</th>\n",
       "      <th>Footnotes.27</th>\n",
       "      <th>Type.27</th>\n",
       "      <th>2018</th>\n",
       "      <th>Footnotes.28</th>\n",
       "      <th>Type.28</th>\n",
       "      <th>2019</th>\n",
       "      <th>Footnotes.29</th>\n",
       "      <th>Type.29</th>\n",
       "    </tr>\n",
       "  </thead>\n",
       "  <tbody>\n",
       "    <tr>\n",
       "      <th>0</th>\n",
       "      <td>4</td>\n",
       "      <td>Afghanistan</td>\n",
       "      <td>567</td>\n",
       "      <td>Y</td>\n",
       "      <td>Proportion of land area covered by forest, per...</td>\n",
       "      <td>2.1</td>\n",
       "      <td>NaN</td>\n",
       "      <td>E</td>\n",
       "      <td></td>\n",
       "      <td></td>\n",
       "      <td>...</td>\n",
       "      <td></td>\n",
       "      <td></td>\n",
       "      <td></td>\n",
       "      <td></td>\n",
       "      <td></td>\n",
       "      <td></td>\n",
       "      <td></td>\n",
       "      <td></td>\n",
       "      <td></td>\n",
       "      <td></td>\n",
       "    </tr>\n",
       "    <tr>\n",
       "      <th>1</th>\n",
       "      <td>4</td>\n",
       "      <td>Afghanistan</td>\n",
       "      <td>749</td>\n",
       "      <td>Y</td>\n",
       "      <td>Carbon dioxide emissions (CO2), thousand metri...</td>\n",
       "      <td>2676.9</td>\n",
       "      <td>NaN</td>\n",
       "      <td>G</td>\n",
       "      <td>2493.6</td>\n",
       "      <td>NaN</td>\n",
       "      <td>...</td>\n",
       "      <td></td>\n",
       "      <td></td>\n",
       "      <td></td>\n",
       "      <td></td>\n",
       "      <td></td>\n",
       "      <td></td>\n",
       "      <td></td>\n",
       "      <td></td>\n",
       "      <td></td>\n",
       "      <td></td>\n",
       "    </tr>\n",
       "    <tr>\n",
       "      <th>2</th>\n",
       "      <td>4</td>\n",
       "      <td>Afghanistan</td>\n",
       "      <td>616</td>\n",
       "      <td>Y</td>\n",
       "      <td>Terrestrial and marine areas protected to tota...</td>\n",
       "      <td>0.36</td>\n",
       "      <td>NaN</td>\n",
       "      <td>C</td>\n",
       "      <td></td>\n",
       "      <td></td>\n",
       "      <td>...</td>\n",
       "      <td></td>\n",
       "      <td></td>\n",
       "      <td></td>\n",
       "      <td></td>\n",
       "      <td></td>\n",
       "      <td></td>\n",
       "      <td></td>\n",
       "      <td></td>\n",
       "      <td></td>\n",
       "      <td></td>\n",
       "    </tr>\n",
       "    <tr>\n",
       "      <th>3</th>\n",
       "      <td>8</td>\n",
       "      <td>Albania</td>\n",
       "      <td>567</td>\n",
       "      <td>Y</td>\n",
       "      <td>Proportion of land area covered by forest, per...</td>\n",
       "      <td>28.8</td>\n",
       "      <td>NaN</td>\n",
       "      <td>C</td>\n",
       "      <td></td>\n",
       "      <td></td>\n",
       "      <td>...</td>\n",
       "      <td></td>\n",
       "      <td></td>\n",
       "      <td></td>\n",
       "      <td></td>\n",
       "      <td></td>\n",
       "      <td></td>\n",
       "      <td></td>\n",
       "      <td></td>\n",
       "      <td></td>\n",
       "      <td></td>\n",
       "    </tr>\n",
       "    <tr>\n",
       "      <th>4</th>\n",
       "      <td>8</td>\n",
       "      <td>Albania</td>\n",
       "      <td>749</td>\n",
       "      <td>Y</td>\n",
       "      <td>Carbon dioxide emissions (CO2), thousand metri...</td>\n",
       "      <td>7488</td>\n",
       "      <td>NaN</td>\n",
       "      <td>G</td>\n",
       "      <td>3971.4</td>\n",
       "      <td>NaN</td>\n",
       "      <td>...</td>\n",
       "      <td></td>\n",
       "      <td></td>\n",
       "      <td></td>\n",
       "      <td></td>\n",
       "      <td></td>\n",
       "      <td></td>\n",
       "      <td></td>\n",
       "      <td></td>\n",
       "      <td></td>\n",
       "      <td></td>\n",
       "    </tr>\n",
       "  </tbody>\n",
       "</table>\n",
       "<p>5 rows × 95 columns</p>\n",
       "</div>"
      ],
      "text/plain": [
       "   CountryCode      Country  SeriesCode MDG  \\\n",
       "0            4  Afghanistan         567   Y   \n",
       "1            4  Afghanistan         749   Y   \n",
       "2            4  Afghanistan         616   Y   \n",
       "3            8      Albania         567   Y   \n",
       "4            8      Albania         749   Y   \n",
       "\n",
       "                                              Series    1990 Footnotes Type  \\\n",
       "0  Proportion of land area covered by forest, per...     2.1       NaN    E   \n",
       "1  Carbon dioxide emissions (CO2), thousand metri...  2676.9       NaN    G   \n",
       "2  Terrestrial and marine areas protected to tota...    0.36       NaN    C   \n",
       "3  Proportion of land area covered by forest, per...    28.8       NaN    C   \n",
       "4  Carbon dioxide emissions (CO2), thousand metri...    7488       NaN    G   \n",
       "\n",
       "     1991 Footnotes.1  ... Type.26 2017 Footnotes.27 Type.27 2018  \\\n",
       "0                      ...                                          \n",
       "1  2493.6         NaN  ...                                          \n",
       "2                      ...                                          \n",
       "3                      ...                                          \n",
       "4  3971.4         NaN  ...                                          \n",
       "\n",
       "  Footnotes.28 Type.28 2019 Footnotes.29 Type.29  \n",
       "0                                                 \n",
       "1                                                 \n",
       "2                                                 \n",
       "3                                                 \n",
       "4                                                 \n",
       "\n",
       "[5 rows x 95 columns]"
      ]
     },
     "execution_count": 3,
     "metadata": {},
     "output_type": "execute_result"
    }
   ],
   "source": [
    "df = pd.read_csv(\"../data/mdg_export_20191227.csv\")\n",
    "df.head()"
   ]
  },
  {
   "cell_type": "code",
   "execution_count": 4,
   "metadata": {},
   "outputs": [
    {
     "data": {
      "text/plain": [
       "Index(['CountryCode', 'Country', 'SeriesCode', 'MDG', 'Series', '1990',\n",
       "       'Footnotes', 'Type', '1991', 'Footnotes.1', 'Type.1', '1992',\n",
       "       'Footnotes.2', 'Type.2', '1993', 'Footnotes.3', 'Type.3', '1994',\n",
       "       'Footnotes.4', 'Type.4', '1995', 'Footnotes.5', 'Type.5', '1996',\n",
       "       'Footnotes.6', 'Type.6', '1997', 'Footnotes.7', 'Type.7', '1998',\n",
       "       'Footnotes.8', 'Type.8', '1999', 'Footnotes.9', 'Type.9', '2000',\n",
       "       'Footnotes.10', 'Type.10', '2001', 'Footnotes.11', 'Type.11', '2002',\n",
       "       'Footnotes.12', 'Type.12', '2003', 'Footnotes.13', 'Type.13', '2004',\n",
       "       'Footnotes.14', 'Type.14', '2005', 'Footnotes.15', 'Type.15', '2006',\n",
       "       'Footnotes.16', 'Type.16', '2007', 'Footnotes.17', 'Type.17', '2008',\n",
       "       'Footnotes.18', 'Type.18', '2009', 'Footnotes.19', 'Type.19', '2010',\n",
       "       'Footnotes.20', 'Type.20', '2011', 'Footnotes.21', 'Type.21', '2012',\n",
       "       'Footnotes.22', 'Type.22', '2013', 'Footnotes.23', 'Type.23', '2014',\n",
       "       'Footnotes.24', 'Type.24', '2015', 'Footnotes.25', 'Type.25', '2016',\n",
       "       'Footnotes.26', 'Type.26', '2017', 'Footnotes.27', 'Type.27', '2018',\n",
       "       'Footnotes.28', 'Type.28', '2019', 'Footnotes.29', 'Type.29'],\n",
       "      dtype='object')"
      ]
     },
     "execution_count": 4,
     "metadata": {},
     "output_type": "execute_result"
    }
   ],
   "source": [
    "df.columns"
   ]
  },
  {
   "cell_type": "markdown",
   "metadata": {},
   "source": [
    "Since we have columns that do not contain any information, it is best to drop them."
   ]
  },
  {
   "cell_type": "code",
   "execution_count": 5,
   "metadata": {},
   "outputs": [],
   "source": [
    "df1 = df.drop(['Footnotes','Footnotes.1','Footnotes.2','Footnotes.3','Footnotes.4','Footnotes.5',\n",
    "               'Footnotes.6','Footnotes.7','Footnotes.8','Footnotes.9','Footnotes.10','Footnotes.11',\n",
    "               'Footnotes.12','Footnotes.13','Footnotes.14','Footnotes.15','Footnotes.16',\n",
    "               'Footnotes.17','Footnotes.18','Footnotes.19','Footnotes.20','Footnotes.21',\n",
    "               'Footnotes.22','Footnotes.23','Footnotes.24','Footnotes.25','Footnotes.26',\n",
    "               'Footnotes.27','Footnotes.28','Footnotes.29'], axis = 1)\n",
    "df1 = df1.drop(['Type','Type.1','Type.2','Type.3','Type.4','Type.5','Type.6','Type.7','Type.8',\n",
    "                'Type.9','Type.10','Type.11','Type.12','Type.13','Type.14','Type.15','Type.16',\n",
    "                'Type.17','Type.18','Type.19','Type.20','Type.21','Type.22','Type.23','Type.24',\n",
    "                'Type.25','Type.26','Type.27','Type.28','Type.29'], axis = 1)"
   ]
  },
  {
   "cell_type": "code",
   "execution_count": 6,
   "metadata": {},
   "outputs": [
    {
     "data": {
      "text/html": [
       "<div>\n",
       "<style scoped>\n",
       "    .dataframe tbody tr th:only-of-type {\n",
       "        vertical-align: middle;\n",
       "    }\n",
       "\n",
       "    .dataframe tbody tr th {\n",
       "        vertical-align: top;\n",
       "    }\n",
       "\n",
       "    .dataframe thead th {\n",
       "        text-align: right;\n",
       "    }\n",
       "</style>\n",
       "<table border=\"1\" class=\"dataframe\">\n",
       "  <thead>\n",
       "    <tr style=\"text-align: right;\">\n",
       "      <th></th>\n",
       "      <th>CountryCode</th>\n",
       "      <th>Country</th>\n",
       "      <th>SeriesCode</th>\n",
       "      <th>MDG</th>\n",
       "      <th>Series</th>\n",
       "      <th>1990</th>\n",
       "      <th>1991</th>\n",
       "      <th>1992</th>\n",
       "      <th>1993</th>\n",
       "      <th>1994</th>\n",
       "      <th>...</th>\n",
       "      <th>2010</th>\n",
       "      <th>2011</th>\n",
       "      <th>2012</th>\n",
       "      <th>2013</th>\n",
       "      <th>2014</th>\n",
       "      <th>2015</th>\n",
       "      <th>2016</th>\n",
       "      <th>2017</th>\n",
       "      <th>2018</th>\n",
       "      <th>2019</th>\n",
       "    </tr>\n",
       "  </thead>\n",
       "  <tbody>\n",
       "    <tr>\n",
       "      <th>0</th>\n",
       "      <td>4</td>\n",
       "      <td>Afghanistan</td>\n",
       "      <td>567</td>\n",
       "      <td>Y</td>\n",
       "      <td>Proportion of land area covered by forest, per...</td>\n",
       "      <td>2.1</td>\n",
       "      <td></td>\n",
       "      <td></td>\n",
       "      <td></td>\n",
       "      <td></td>\n",
       "      <td>...</td>\n",
       "      <td>2.1</td>\n",
       "      <td></td>\n",
       "      <td></td>\n",
       "      <td></td>\n",
       "      <td></td>\n",
       "      <td></td>\n",
       "      <td></td>\n",
       "      <td></td>\n",
       "      <td></td>\n",
       "      <td></td>\n",
       "    </tr>\n",
       "    <tr>\n",
       "      <th>1</th>\n",
       "      <td>4</td>\n",
       "      <td>Afghanistan</td>\n",
       "      <td>749</td>\n",
       "      <td>Y</td>\n",
       "      <td>Carbon dioxide emissions (CO2), thousand metri...</td>\n",
       "      <td>2676.9</td>\n",
       "      <td>2493.6</td>\n",
       "      <td>1426.5</td>\n",
       "      <td>1375.1</td>\n",
       "      <td>1320.1</td>\n",
       "      <td>...</td>\n",
       "      <td>8470.8</td>\n",
       "      <td>12251.4</td>\n",
       "      <td></td>\n",
       "      <td></td>\n",
       "      <td></td>\n",
       "      <td></td>\n",
       "      <td></td>\n",
       "      <td></td>\n",
       "      <td></td>\n",
       "      <td></td>\n",
       "    </tr>\n",
       "    <tr>\n",
       "      <th>2</th>\n",
       "      <td>4</td>\n",
       "      <td>Afghanistan</td>\n",
       "      <td>616</td>\n",
       "      <td>Y</td>\n",
       "      <td>Terrestrial and marine areas protected to tota...</td>\n",
       "      <td>0.36</td>\n",
       "      <td></td>\n",
       "      <td></td>\n",
       "      <td></td>\n",
       "      <td></td>\n",
       "      <td>...</td>\n",
       "      <td></td>\n",
       "      <td></td>\n",
       "      <td></td>\n",
       "      <td></td>\n",
       "      <td>0.46</td>\n",
       "      <td></td>\n",
       "      <td></td>\n",
       "      <td></td>\n",
       "      <td></td>\n",
       "      <td></td>\n",
       "    </tr>\n",
       "    <tr>\n",
       "      <th>3</th>\n",
       "      <td>8</td>\n",
       "      <td>Albania</td>\n",
       "      <td>567</td>\n",
       "      <td>Y</td>\n",
       "      <td>Proportion of land area covered by forest, per...</td>\n",
       "      <td>28.8</td>\n",
       "      <td></td>\n",
       "      <td></td>\n",
       "      <td></td>\n",
       "      <td></td>\n",
       "      <td>...</td>\n",
       "      <td>28.3</td>\n",
       "      <td></td>\n",
       "      <td></td>\n",
       "      <td></td>\n",
       "      <td></td>\n",
       "      <td></td>\n",
       "      <td></td>\n",
       "      <td></td>\n",
       "      <td></td>\n",
       "      <td></td>\n",
       "    </tr>\n",
       "    <tr>\n",
       "      <th>4</th>\n",
       "      <td>8</td>\n",
       "      <td>Albania</td>\n",
       "      <td>749</td>\n",
       "      <td>Y</td>\n",
       "      <td>Carbon dioxide emissions (CO2), thousand metri...</td>\n",
       "      <td>7488</td>\n",
       "      <td>3971.4</td>\n",
       "      <td>2387.2</td>\n",
       "      <td>2343.2</td>\n",
       "      <td>1928.8</td>\n",
       "      <td>...</td>\n",
       "      <td>4415.1</td>\n",
       "      <td>4668.1</td>\n",
       "      <td></td>\n",
       "      <td></td>\n",
       "      <td></td>\n",
       "      <td></td>\n",
       "      <td></td>\n",
       "      <td></td>\n",
       "      <td></td>\n",
       "      <td></td>\n",
       "    </tr>\n",
       "  </tbody>\n",
       "</table>\n",
       "<p>5 rows × 35 columns</p>\n",
       "</div>"
      ],
      "text/plain": [
       "   CountryCode      Country  SeriesCode MDG  \\\n",
       "0            4  Afghanistan         567   Y   \n",
       "1            4  Afghanistan         749   Y   \n",
       "2            4  Afghanistan         616   Y   \n",
       "3            8      Albania         567   Y   \n",
       "4            8      Albania         749   Y   \n",
       "\n",
       "                                              Series    1990    1991    1992  \\\n",
       "0  Proportion of land area covered by forest, per...     2.1                   \n",
       "1  Carbon dioxide emissions (CO2), thousand metri...  2676.9  2493.6  1426.5   \n",
       "2  Terrestrial and marine areas protected to tota...    0.36                   \n",
       "3  Proportion of land area covered by forest, per...    28.8                   \n",
       "4  Carbon dioxide emissions (CO2), thousand metri...    7488  3971.4  2387.2   \n",
       "\n",
       "     1993    1994  ...    2010     2011 2012 2013  2014 2015 2016 2017 2018  \\\n",
       "0                  ...     2.1                                                \n",
       "1  1375.1  1320.1  ...  8470.8  12251.4                                       \n",
       "2                  ...                             0.46                       \n",
       "3                  ...    28.3                                                \n",
       "4  2343.2  1928.8  ...  4415.1   4668.1                                       \n",
       "\n",
       "  2019  \n",
       "0       \n",
       "1       \n",
       "2       \n",
       "3       \n",
       "4       \n",
       "\n",
       "[5 rows x 35 columns]"
      ]
     },
     "execution_count": 6,
     "metadata": {},
     "output_type": "execute_result"
    }
   ],
   "source": [
    "df1.head()"
   ]
  },
  {
   "cell_type": "code",
   "execution_count": 7,
   "metadata": {},
   "outputs": [
    {
     "data": {
      "text/plain": [
       "230"
      ]
     },
     "execution_count": 7,
     "metadata": {},
     "output_type": "execute_result"
    }
   ],
   "source": [
    "df1['Country'].nunique()"
   ]
  },
  {
   "cell_type": "markdown",
   "metadata": {},
   "source": [
    "- 230 Countries are represented"
   ]
  },
  {
   "cell_type": "markdown",
   "metadata": {},
   "source": [
    "# Finding Missing Values"
   ]
  },
  {
   "cell_type": "markdown",
   "metadata": {},
   "source": [
    "Replacing empty spaces with Nan values"
   ]
  },
  {
   "cell_type": "code",
   "execution_count": 8,
   "metadata": {},
   "outputs": [],
   "source": [
    "df1 = df1.replace(r'^\\s*$', np.nan,regex = True)"
   ]
  },
  {
   "cell_type": "code",
   "execution_count": 9,
   "metadata": {},
   "outputs": [
    {
     "data": {
      "text/plain": [
       "Country\n",
       "Afghanistan                                       61\n",
       "Albania                                           61\n",
       "Algeria                                           61\n",
       "American Samoa                                    83\n",
       "Andorra                                           66\n",
       "                                                  ..\n",
       "Western Sahara                                    83\n",
       "Yemen                                             61\n",
       "Yugoslavia [former Socialist Federal Republic]    88\n",
       "Zambia                                            61\n",
       "Zimbabwe                                          61\n",
       "Length: 230, dtype: int64"
      ]
     },
     "execution_count": 9,
     "metadata": {},
     "output_type": "execute_result"
    }
   ],
   "source": [
    "df1.isnull().groupby(df1['Country']).sum().sum(axis=1)"
   ]
  },
  {
   "cell_type": "code",
   "execution_count": 10,
   "metadata": {},
   "outputs": [
    {
     "data": {
      "text/plain": [
       "Series\n",
       "Carbon dioxide emissions (CO2), thousand metric tons of CO2 (CDIAC)             2325\n",
       "Proportion of land area covered by forest, percentage                           6008\n",
       "Terrestrial and marine areas protected to total territorial area, percentage    6231\n",
       "dtype: int64"
      ]
     },
     "execution_count": 10,
     "metadata": {},
     "output_type": "execute_result"
    }
   ],
   "source": [
    "df1.isnull().groupby(df1['Series']).sum().sum(axis=1)"
   ]
  },
  {
   "cell_type": "code",
   "execution_count": 11,
   "metadata": {},
   "outputs": [
    {
     "data": {
      "text/plain": [
       "1990     63\n",
       "1991    508\n",
       "1992    486\n",
       "1993    486\n",
       "1994    485\n",
       "1995    483\n",
       "1996    484\n",
       "1997    481\n",
       "1998    481\n",
       "1999    481\n",
       "2000     34\n",
       "2001    479\n",
       "2002    478\n",
       "2003    478\n",
       "2004    478\n",
       "2005    254\n",
       "2006    476\n",
       "2007    475\n",
       "2008    475\n",
       "2009    475\n",
       "2010    252\n",
       "2011    475\n",
       "2012    690\n",
       "2013    690\n",
       "2014    467\n",
       "2015    690\n",
       "2016    690\n",
       "2017    690\n",
       "2018    690\n",
       "2019    690\n",
       "dtype: int64"
      ]
     },
     "execution_count": 11,
     "metadata": {},
     "output_type": "execute_result"
    }
   ],
   "source": [
    "Years = df1.drop(['Country','CountryCode', 'SeriesCode', 'MDG', 'Series'], axis = 1)\n",
    "Years.isna().sum()"
   ]
  },
  {
   "cell_type": "code",
   "execution_count": 12,
   "metadata": {},
   "outputs": [],
   "source": [
    "years = list(Years)\n",
    "df1[years] = df1[years].astype(float)"
   ]
  },
  {
   "cell_type": "markdown",
   "metadata": {},
   "source": [
    "### Finding the top and bottom 5 countries in terms of CO2 emissions in 1990 and their emissions"
   ]
  },
  {
   "cell_type": "code",
   "execution_count": 13,
   "metadata": {},
   "outputs": [
    {
     "data": {
      "text/html": [
       "<div>\n",
       "<style scoped>\n",
       "    .dataframe tbody tr th:only-of-type {\n",
       "        vertical-align: middle;\n",
       "    }\n",
       "\n",
       "    .dataframe tbody tr th {\n",
       "        vertical-align: top;\n",
       "    }\n",
       "\n",
       "    .dataframe thead th {\n",
       "        text-align: right;\n",
       "    }\n",
       "</style>\n",
       "<table border=\"1\" class=\"dataframe\">\n",
       "  <thead>\n",
       "    <tr style=\"text-align: right;\">\n",
       "      <th></th>\n",
       "      <th>CountryCode</th>\n",
       "      <th>Country</th>\n",
       "      <th>SeriesCode</th>\n",
       "      <th>MDG</th>\n",
       "      <th>Series</th>\n",
       "      <th>1990</th>\n",
       "      <th>1991</th>\n",
       "      <th>1992</th>\n",
       "      <th>1993</th>\n",
       "      <th>1994</th>\n",
       "      <th>...</th>\n",
       "      <th>2010</th>\n",
       "      <th>2011</th>\n",
       "      <th>2012</th>\n",
       "      <th>2013</th>\n",
       "      <th>2014</th>\n",
       "      <th>2015</th>\n",
       "      <th>2016</th>\n",
       "      <th>2017</th>\n",
       "      <th>2018</th>\n",
       "      <th>2019</th>\n",
       "    </tr>\n",
       "  </thead>\n",
       "  <tbody>\n",
       "    <tr>\n",
       "      <th>0</th>\n",
       "      <td>4</td>\n",
       "      <td>Afghanistan</td>\n",
       "      <td>567</td>\n",
       "      <td>Y</td>\n",
       "      <td>Proportion of land area covered by forest, per...</td>\n",
       "      <td>2.10</td>\n",
       "      <td>NaN</td>\n",
       "      <td>NaN</td>\n",
       "      <td>NaN</td>\n",
       "      <td>NaN</td>\n",
       "      <td>...</td>\n",
       "      <td>2.1</td>\n",
       "      <td>NaN</td>\n",
       "      <td>NaN</td>\n",
       "      <td>NaN</td>\n",
       "      <td>NaN</td>\n",
       "      <td>NaN</td>\n",
       "      <td>NaN</td>\n",
       "      <td>NaN</td>\n",
       "      <td>NaN</td>\n",
       "      <td>NaN</td>\n",
       "    </tr>\n",
       "    <tr>\n",
       "      <th>1</th>\n",
       "      <td>4</td>\n",
       "      <td>Afghanistan</td>\n",
       "      <td>749</td>\n",
       "      <td>Y</td>\n",
       "      <td>Carbon dioxide emissions (CO2), thousand metri...</td>\n",
       "      <td>2676.90</td>\n",
       "      <td>2493.6</td>\n",
       "      <td>1426.5</td>\n",
       "      <td>1375.1</td>\n",
       "      <td>1320.1</td>\n",
       "      <td>...</td>\n",
       "      <td>8470.8</td>\n",
       "      <td>12251.4</td>\n",
       "      <td>NaN</td>\n",
       "      <td>NaN</td>\n",
       "      <td>NaN</td>\n",
       "      <td>NaN</td>\n",
       "      <td>NaN</td>\n",
       "      <td>NaN</td>\n",
       "      <td>NaN</td>\n",
       "      <td>NaN</td>\n",
       "    </tr>\n",
       "    <tr>\n",
       "      <th>2</th>\n",
       "      <td>4</td>\n",
       "      <td>Afghanistan</td>\n",
       "      <td>616</td>\n",
       "      <td>Y</td>\n",
       "      <td>Terrestrial and marine areas protected to tota...</td>\n",
       "      <td>0.36</td>\n",
       "      <td>NaN</td>\n",
       "      <td>NaN</td>\n",
       "      <td>NaN</td>\n",
       "      <td>NaN</td>\n",
       "      <td>...</td>\n",
       "      <td>NaN</td>\n",
       "      <td>NaN</td>\n",
       "      <td>NaN</td>\n",
       "      <td>NaN</td>\n",
       "      <td>0.46</td>\n",
       "      <td>NaN</td>\n",
       "      <td>NaN</td>\n",
       "      <td>NaN</td>\n",
       "      <td>NaN</td>\n",
       "      <td>NaN</td>\n",
       "    </tr>\n",
       "    <tr>\n",
       "      <th>3</th>\n",
       "      <td>8</td>\n",
       "      <td>Albania</td>\n",
       "      <td>567</td>\n",
       "      <td>Y</td>\n",
       "      <td>Proportion of land area covered by forest, per...</td>\n",
       "      <td>28.80</td>\n",
       "      <td>NaN</td>\n",
       "      <td>NaN</td>\n",
       "      <td>NaN</td>\n",
       "      <td>NaN</td>\n",
       "      <td>...</td>\n",
       "      <td>28.3</td>\n",
       "      <td>NaN</td>\n",
       "      <td>NaN</td>\n",
       "      <td>NaN</td>\n",
       "      <td>NaN</td>\n",
       "      <td>NaN</td>\n",
       "      <td>NaN</td>\n",
       "      <td>NaN</td>\n",
       "      <td>NaN</td>\n",
       "      <td>NaN</td>\n",
       "    </tr>\n",
       "    <tr>\n",
       "      <th>4</th>\n",
       "      <td>8</td>\n",
       "      <td>Albania</td>\n",
       "      <td>749</td>\n",
       "      <td>Y</td>\n",
       "      <td>Carbon dioxide emissions (CO2), thousand metri...</td>\n",
       "      <td>7488.00</td>\n",
       "      <td>3971.4</td>\n",
       "      <td>2387.2</td>\n",
       "      <td>2343.2</td>\n",
       "      <td>1928.8</td>\n",
       "      <td>...</td>\n",
       "      <td>4415.1</td>\n",
       "      <td>4668.1</td>\n",
       "      <td>NaN</td>\n",
       "      <td>NaN</td>\n",
       "      <td>NaN</td>\n",
       "      <td>NaN</td>\n",
       "      <td>NaN</td>\n",
       "      <td>NaN</td>\n",
       "      <td>NaN</td>\n",
       "      <td>NaN</td>\n",
       "    </tr>\n",
       "  </tbody>\n",
       "</table>\n",
       "<p>5 rows × 35 columns</p>\n",
       "</div>"
      ],
      "text/plain": [
       "   CountryCode      Country  SeriesCode MDG  \\\n",
       "0            4  Afghanistan         567   Y   \n",
       "1            4  Afghanistan         749   Y   \n",
       "2            4  Afghanistan         616   Y   \n",
       "3            8      Albania         567   Y   \n",
       "4            8      Albania         749   Y   \n",
       "\n",
       "                                              Series     1990    1991    1992  \\\n",
       "0  Proportion of land area covered by forest, per...     2.10     NaN     NaN   \n",
       "1  Carbon dioxide emissions (CO2), thousand metri...  2676.90  2493.6  1426.5   \n",
       "2  Terrestrial and marine areas protected to tota...     0.36     NaN     NaN   \n",
       "3  Proportion of land area covered by forest, per...    28.80     NaN     NaN   \n",
       "4  Carbon dioxide emissions (CO2), thousand metri...  7488.00  3971.4  2387.2   \n",
       "\n",
       "     1993    1994  ...    2010     2011  2012  2013  2014  2015  2016  2017  \\\n",
       "0     NaN     NaN  ...     2.1      NaN   NaN   NaN   NaN   NaN   NaN   NaN   \n",
       "1  1375.1  1320.1  ...  8470.8  12251.4   NaN   NaN   NaN   NaN   NaN   NaN   \n",
       "2     NaN     NaN  ...     NaN      NaN   NaN   NaN  0.46   NaN   NaN   NaN   \n",
       "3     NaN     NaN  ...    28.3      NaN   NaN   NaN   NaN   NaN   NaN   NaN   \n",
       "4  2343.2  1928.8  ...  4415.1   4668.1   NaN   NaN   NaN   NaN   NaN   NaN   \n",
       "\n",
       "   2018  2019  \n",
       "0   NaN   NaN  \n",
       "1   NaN   NaN  \n",
       "2   NaN   NaN  \n",
       "3   NaN   NaN  \n",
       "4   NaN   NaN  \n",
       "\n",
       "[5 rows x 35 columns]"
      ]
     },
     "execution_count": 13,
     "metadata": {},
     "output_type": "execute_result"
    }
   ],
   "source": [
    "df1.head()"
   ]
  },
  {
   "cell_type": "code",
   "execution_count": 14,
   "metadata": {},
   "outputs": [
    {
     "data": {
      "text/html": [
       "<div>\n",
       "<style scoped>\n",
       "    .dataframe tbody tr th:only-of-type {\n",
       "        vertical-align: middle;\n",
       "    }\n",
       "\n",
       "    .dataframe tbody tr th {\n",
       "        vertical-align: top;\n",
       "    }\n",
       "\n",
       "    .dataframe thead th {\n",
       "        text-align: right;\n",
       "    }\n",
       "</style>\n",
       "<table border=\"1\" class=\"dataframe\">\n",
       "  <thead>\n",
       "    <tr style=\"text-align: right;\">\n",
       "      <th></th>\n",
       "      <th>CountryCode</th>\n",
       "      <th>Country</th>\n",
       "      <th>SeriesCode</th>\n",
       "      <th>MDG</th>\n",
       "      <th>Series</th>\n",
       "      <th>1990</th>\n",
       "      <th>1991</th>\n",
       "      <th>1992</th>\n",
       "      <th>1993</th>\n",
       "      <th>1994</th>\n",
       "      <th>...</th>\n",
       "      <th>2010</th>\n",
       "      <th>2011</th>\n",
       "      <th>2012</th>\n",
       "      <th>2013</th>\n",
       "      <th>2014</th>\n",
       "      <th>2015</th>\n",
       "      <th>2016</th>\n",
       "      <th>2017</th>\n",
       "      <th>2018</th>\n",
       "      <th>2019</th>\n",
       "    </tr>\n",
       "  </thead>\n",
       "  <tbody>\n",
       "    <tr>\n",
       "      <th>1</th>\n",
       "      <td>4</td>\n",
       "      <td>Afghanistan</td>\n",
       "      <td>749</td>\n",
       "      <td>Y</td>\n",
       "      <td>Carbon dioxide emissions (CO2), thousand metri...</td>\n",
       "      <td>2676.9</td>\n",
       "      <td>2493.6</td>\n",
       "      <td>1426.5</td>\n",
       "      <td>1375.1</td>\n",
       "      <td>1320.1</td>\n",
       "      <td>...</td>\n",
       "      <td>8470.8</td>\n",
       "      <td>12251.4</td>\n",
       "      <td>NaN</td>\n",
       "      <td>NaN</td>\n",
       "      <td>NaN</td>\n",
       "      <td>NaN</td>\n",
       "      <td>NaN</td>\n",
       "      <td>NaN</td>\n",
       "      <td>NaN</td>\n",
       "      <td>NaN</td>\n",
       "    </tr>\n",
       "    <tr>\n",
       "      <th>4</th>\n",
       "      <td>8</td>\n",
       "      <td>Albania</td>\n",
       "      <td>749</td>\n",
       "      <td>Y</td>\n",
       "      <td>Carbon dioxide emissions (CO2), thousand metri...</td>\n",
       "      <td>7488.0</td>\n",
       "      <td>3971.4</td>\n",
       "      <td>2387.2</td>\n",
       "      <td>2343.2</td>\n",
       "      <td>1928.8</td>\n",
       "      <td>...</td>\n",
       "      <td>4415.1</td>\n",
       "      <td>4668.1</td>\n",
       "      <td>NaN</td>\n",
       "      <td>NaN</td>\n",
       "      <td>NaN</td>\n",
       "      <td>NaN</td>\n",
       "      <td>NaN</td>\n",
       "      <td>NaN</td>\n",
       "      <td>NaN</td>\n",
       "      <td>NaN</td>\n",
       "    </tr>\n",
       "    <tr>\n",
       "      <th>7</th>\n",
       "      <td>12</td>\n",
       "      <td>Algeria</td>\n",
       "      <td>749</td>\n",
       "      <td>Y</td>\n",
       "      <td>Carbon dioxide emissions (CO2), thousand metri...</td>\n",
       "      <td>78924.8</td>\n",
       "      <td>81220.4</td>\n",
       "      <td>81935.4</td>\n",
       "      <td>82294.8</td>\n",
       "      <td>86500.9</td>\n",
       "      <td>...</td>\n",
       "      <td>119276.5</td>\n",
       "      <td>121755.4</td>\n",
       "      <td>NaN</td>\n",
       "      <td>NaN</td>\n",
       "      <td>NaN</td>\n",
       "      <td>NaN</td>\n",
       "      <td>NaN</td>\n",
       "      <td>NaN</td>\n",
       "      <td>NaN</td>\n",
       "      <td>NaN</td>\n",
       "    </tr>\n",
       "    <tr>\n",
       "      <th>10</th>\n",
       "      <td>16</td>\n",
       "      <td>American Samoa</td>\n",
       "      <td>749</td>\n",
       "      <td>Y</td>\n",
       "      <td>Carbon dioxide emissions (CO2), thousand metri...</td>\n",
       "      <td>NaN</td>\n",
       "      <td>NaN</td>\n",
       "      <td>NaN</td>\n",
       "      <td>NaN</td>\n",
       "      <td>NaN</td>\n",
       "      <td>...</td>\n",
       "      <td>NaN</td>\n",
       "      <td>NaN</td>\n",
       "      <td>NaN</td>\n",
       "      <td>NaN</td>\n",
       "      <td>NaN</td>\n",
       "      <td>NaN</td>\n",
       "      <td>NaN</td>\n",
       "      <td>NaN</td>\n",
       "      <td>NaN</td>\n",
       "      <td>NaN</td>\n",
       "    </tr>\n",
       "    <tr>\n",
       "      <th>13</th>\n",
       "      <td>20</td>\n",
       "      <td>Andorra</td>\n",
       "      <td>749</td>\n",
       "      <td>Y</td>\n",
       "      <td>Carbon dioxide emissions (CO2), thousand metri...</td>\n",
       "      <td>NaN</td>\n",
       "      <td>NaN</td>\n",
       "      <td>NaN</td>\n",
       "      <td>NaN</td>\n",
       "      <td>NaN</td>\n",
       "      <td>...</td>\n",
       "      <td>517.0</td>\n",
       "      <td>491.4</td>\n",
       "      <td>NaN</td>\n",
       "      <td>NaN</td>\n",
       "      <td>NaN</td>\n",
       "      <td>NaN</td>\n",
       "      <td>NaN</td>\n",
       "      <td>NaN</td>\n",
       "      <td>NaN</td>\n",
       "      <td>NaN</td>\n",
       "    </tr>\n",
       "  </tbody>\n",
       "</table>\n",
       "<p>5 rows × 35 columns</p>\n",
       "</div>"
      ],
      "text/plain": [
       "    CountryCode         Country  SeriesCode MDG  \\\n",
       "1             4     Afghanistan         749   Y   \n",
       "4             8         Albania         749   Y   \n",
       "7            12         Algeria         749   Y   \n",
       "10           16  American Samoa         749   Y   \n",
       "13           20         Andorra         749   Y   \n",
       "\n",
       "                                               Series     1990     1991  \\\n",
       "1   Carbon dioxide emissions (CO2), thousand metri...   2676.9   2493.6   \n",
       "4   Carbon dioxide emissions (CO2), thousand metri...   7488.0   3971.4   \n",
       "7   Carbon dioxide emissions (CO2), thousand metri...  78924.8  81220.4   \n",
       "10  Carbon dioxide emissions (CO2), thousand metri...      NaN      NaN   \n",
       "13  Carbon dioxide emissions (CO2), thousand metri...      NaN      NaN   \n",
       "\n",
       "       1992     1993     1994  ...      2010      2011  2012  2013  2014  \\\n",
       "1    1426.5   1375.1   1320.1  ...    8470.8   12251.4   NaN   NaN   NaN   \n",
       "4    2387.2   2343.2   1928.8  ...    4415.1    4668.1   NaN   NaN   NaN   \n",
       "7   81935.4  82294.8  86500.9  ...  119276.5  121755.4   NaN   NaN   NaN   \n",
       "10      NaN      NaN      NaN  ...       NaN       NaN   NaN   NaN   NaN   \n",
       "13      NaN      NaN      NaN  ...     517.0     491.4   NaN   NaN   NaN   \n",
       "\n",
       "    2015  2016  2017  2018  2019  \n",
       "1    NaN   NaN   NaN   NaN   NaN  \n",
       "4    NaN   NaN   NaN   NaN   NaN  \n",
       "7    NaN   NaN   NaN   NaN   NaN  \n",
       "10   NaN   NaN   NaN   NaN   NaN  \n",
       "13   NaN   NaN   NaN   NaN   NaN  \n",
       "\n",
       "[5 rows x 35 columns]"
      ]
     },
     "execution_count": 14,
     "metadata": {},
     "output_type": "execute_result"
    }
   ],
   "source": [
    "CO2 = df1.loc[df1['Series']=='Carbon dioxide emissions (CO2), thousand metric tons of CO2 (CDIAC)']\n",
    "CO2.head()"
   ]
  },
  {
   "cell_type": "markdown",
   "metadata": {},
   "source": [
    "#### Looking at the top and bottom countries in 1990"
   ]
  },
  {
   "cell_type": "code",
   "execution_count": 15,
   "metadata": {},
   "outputs": [
    {
     "data": {
      "text/html": [
       "<div>\n",
       "<style scoped>\n",
       "    .dataframe tbody tr th:only-of-type {\n",
       "        vertical-align: middle;\n",
       "    }\n",
       "\n",
       "    .dataframe tbody tr th {\n",
       "        vertical-align: top;\n",
       "    }\n",
       "\n",
       "    .dataframe thead th {\n",
       "        text-align: right;\n",
       "    }\n",
       "</style>\n",
       "<table border=\"1\" class=\"dataframe\">\n",
       "  <thead>\n",
       "    <tr style=\"text-align: right;\">\n",
       "      <th></th>\n",
       "      <th>Country</th>\n",
       "      <th>1990</th>\n",
       "    </tr>\n",
       "  </thead>\n",
       "  <tbody>\n",
       "    <tr>\n",
       "      <th>652</th>\n",
       "      <td>United States</td>\n",
       "      <td>4823557.1</td>\n",
       "    </tr>\n",
       "    <tr>\n",
       "      <th>124</th>\n",
       "      <td>China</td>\n",
       "      <td>2460744.0</td>\n",
       "    </tr>\n",
       "    <tr>\n",
       "      <th>301</th>\n",
       "      <td>Japan</td>\n",
       "      <td>1094287.8</td>\n",
       "    </tr>\n",
       "    <tr>\n",
       "      <th>277</th>\n",
       "      <td>India</td>\n",
       "      <td>690576.8</td>\n",
       "    </tr>\n",
       "    <tr>\n",
       "      <th>646</th>\n",
       "      <td>United Kingdom</td>\n",
       "      <td>555902.5</td>\n",
       "    </tr>\n",
       "  </tbody>\n",
       "</table>\n",
       "</div>"
      ],
      "text/plain": [
       "            Country       1990\n",
       "652   United States  4823557.1\n",
       "124           China  2460744.0\n",
       "301           Japan  1094287.8\n",
       "277           India   690576.8\n",
       "646  United Kingdom   555902.5"
      ]
     },
     "execution_count": 15,
     "metadata": {},
     "output_type": "execute_result"
    }
   ],
   "source": [
    "round(CO2.nlargest(5,'1990')[['Country','1990']].sort_values(by=['1990'], ascending=False),2)"
   ]
  },
  {
   "cell_type": "markdown",
   "metadata": {},
   "source": [
    "## Top 5 Countries"
   ]
  },
  {
   "cell_type": "markdown",
   "metadata": {},
   "source": [
    "- United States\n",
    "- China\n",
    "- Japan\n",
    "- India\n",
    "- United Kingdom"
   ]
  },
  {
   "cell_type": "code",
   "execution_count": 16,
   "metadata": {},
   "outputs": [
    {
     "data": {
      "text/html": [
       "<div>\n",
       "<style scoped>\n",
       "    .dataframe tbody tr th:only-of-type {\n",
       "        vertical-align: middle;\n",
       "    }\n",
       "\n",
       "    .dataframe tbody tr th {\n",
       "        vertical-align: top;\n",
       "    }\n",
       "\n",
       "    .dataframe thead th {\n",
       "        text-align: right;\n",
       "    }\n",
       "</style>\n",
       "<table border=\"1\" class=\"dataframe\">\n",
       "  <thead>\n",
       "    <tr style=\"text-align: right;\">\n",
       "      <th></th>\n",
       "      <th>Country</th>\n",
       "      <th>1990</th>\n",
       "    </tr>\n",
       "  </thead>\n",
       "  <tbody>\n",
       "    <tr>\n",
       "      <th>313</th>\n",
       "      <td>Kiribati</td>\n",
       "      <td>22.0</td>\n",
       "    </tr>\n",
       "    <tr>\n",
       "      <th>559</th>\n",
       "      <td>Somalia</td>\n",
       "      <td>18.3</td>\n",
       "    </tr>\n",
       "    <tr>\n",
       "      <th>505</th>\n",
       "      <td>Saint Helena</td>\n",
       "      <td>7.3</td>\n",
       "    </tr>\n",
       "    <tr>\n",
       "      <th>445</th>\n",
       "      <td>Niue</td>\n",
       "      <td>3.7</td>\n",
       "    </tr>\n",
       "    <tr>\n",
       "      <th>679</th>\n",
       "      <td>Yemen</td>\n",
       "      <td>-2999.6</td>\n",
       "    </tr>\n",
       "  </tbody>\n",
       "</table>\n",
       "</div>"
      ],
      "text/plain": [
       "          Country    1990\n",
       "313      Kiribati    22.0\n",
       "559       Somalia    18.3\n",
       "505  Saint Helena     7.3\n",
       "445          Niue     3.7\n",
       "679         Yemen -2999.6"
      ]
     },
     "execution_count": 16,
     "metadata": {},
     "output_type": "execute_result"
    }
   ],
   "source": [
    "CO2.nsmallest(5, '1990', 'last')[['Country','1990']].sort_values(by=['1990'],ascending=False)"
   ]
  },
  {
   "cell_type": "markdown",
   "metadata": {},
   "source": [
    "## Bottom 5 Countries"
   ]
  },
  {
   "cell_type": "markdown",
   "metadata": {},
   "source": [
    "- Kiribati\n",
    "- Somalia\n",
    "- Saint Helena\n",
    "- Niue\n",
    "- Yemen\n",
    "\n",
    "Seeing that Yemen has a negative CO2 emission value of -2999.6, it simply means Yemen is Carbon Negative, meanwhile; Carbon negative means, in effect, that you emit less than zero carbon dioxide and carbon dioxide equivalent (CO2e) greenhouse gasses."
   ]
  },
  {
   "cell_type": "code",
   "execution_count": 17,
   "metadata": {},
   "outputs": [],
   "source": [
    "CO2=CO2.replace(-2999.600000, 2999.6)"
   ]
  },
  {
   "cell_type": "markdown",
   "metadata": {},
   "source": [
    "- Replacing the negative value for proper computation of log scale since log10 regards negative values as invalid, however changing this value to a positive does not affect or make any noticable change to the data."
   ]
  },
  {
   "cell_type": "markdown",
   "metadata": {},
   "source": [
    "### Looking at how this has changed in 2011"
   ]
  },
  {
   "cell_type": "markdown",
   "metadata": {},
   "source": [
    "## Top 5 Countries"
   ]
  },
  {
   "cell_type": "code",
   "execution_count": 18,
   "metadata": {},
   "outputs": [
    {
     "data": {
      "text/html": [
       "<div>\n",
       "<style scoped>\n",
       "    .dataframe tbody tr th:only-of-type {\n",
       "        vertical-align: middle;\n",
       "    }\n",
       "\n",
       "    .dataframe tbody tr th {\n",
       "        vertical-align: top;\n",
       "    }\n",
       "\n",
       "    .dataframe thead th {\n",
       "        text-align: right;\n",
       "    }\n",
       "</style>\n",
       "<table border=\"1\" class=\"dataframe\">\n",
       "  <thead>\n",
       "    <tr style=\"text-align: right;\">\n",
       "      <th></th>\n",
       "      <th>Country</th>\n",
       "      <th>2011</th>\n",
       "    </tr>\n",
       "  </thead>\n",
       "  <tbody>\n",
       "    <tr>\n",
       "      <th>124</th>\n",
       "      <td>China</td>\n",
       "      <td>9019518.2</td>\n",
       "    </tr>\n",
       "    <tr>\n",
       "      <th>652</th>\n",
       "      <td>United States</td>\n",
       "      <td>5305569.6</td>\n",
       "    </tr>\n",
       "    <tr>\n",
       "      <th>277</th>\n",
       "      <td>India</td>\n",
       "      <td>2074344.9</td>\n",
       "    </tr>\n",
       "    <tr>\n",
       "      <th>499</th>\n",
       "      <td>Russian Federation</td>\n",
       "      <td>1808073.0</td>\n",
       "    </tr>\n",
       "    <tr>\n",
       "      <th>301</th>\n",
       "      <td>Japan</td>\n",
       "      <td>1187657.0</td>\n",
       "    </tr>\n",
       "  </tbody>\n",
       "</table>\n",
       "</div>"
      ],
      "text/plain": [
       "                Country       2011\n",
       "124               China  9019518.2\n",
       "652       United States  5305569.6\n",
       "277               India  2074344.9\n",
       "499  Russian Federation  1808073.0\n",
       "301               Japan  1187657.0"
      ]
     },
     "execution_count": 18,
     "metadata": {},
     "output_type": "execute_result"
    }
   ],
   "source": [
    "CO2.nlargest(5,'2011')[['Country','2011']].sort_values(by=['2011'], ascending=False)"
   ]
  },
  {
   "cell_type": "markdown",
   "metadata": {},
   "source": [
    "## Bottom 5 Countries"
   ]
  },
  {
   "cell_type": "code",
   "execution_count": 19,
   "metadata": {},
   "outputs": [
    {
     "data": {
      "text/html": [
       "<div>\n",
       "<style scoped>\n",
       "    .dataframe tbody tr th:only-of-type {\n",
       "        vertical-align: middle;\n",
       "    }\n",
       "\n",
       "    .dataframe tbody tr th {\n",
       "        vertical-align: top;\n",
       "    }\n",
       "\n",
       "    .dataframe thead th {\n",
       "        text-align: right;\n",
       "    }\n",
       "</style>\n",
       "<table border=\"1\" class=\"dataframe\">\n",
       "  <thead>\n",
       "    <tr style=\"text-align: right;\">\n",
       "      <th></th>\n",
       "      <th>Country</th>\n",
       "      <th>2011</th>\n",
       "    </tr>\n",
       "  </thead>\n",
       "  <tbody>\n",
       "    <tr>\n",
       "      <th>346</th>\n",
       "      <td>Liechtenstein</td>\n",
       "      <td>51.3</td>\n",
       "    </tr>\n",
       "    <tr>\n",
       "      <th>418</th>\n",
       "      <td>Nauru</td>\n",
       "      <td>51.3</td>\n",
       "    </tr>\n",
       "    <tr>\n",
       "      <th>673</th>\n",
       "      <td>Wallis and Futuna Islands</td>\n",
       "      <td>25.7</td>\n",
       "    </tr>\n",
       "    <tr>\n",
       "      <th>445</th>\n",
       "      <td>Niue</td>\n",
       "      <td>11.0</td>\n",
       "    </tr>\n",
       "    <tr>\n",
       "      <th>505</th>\n",
       "      <td>Saint Helena</td>\n",
       "      <td>11.0</td>\n",
       "    </tr>\n",
       "  </tbody>\n",
       "</table>\n",
       "</div>"
      ],
      "text/plain": [
       "                       Country  2011\n",
       "346              Liechtenstein  51.3\n",
       "418                      Nauru  51.3\n",
       "673  Wallis and Futuna Islands  25.7\n",
       "445                       Niue  11.0\n",
       "505               Saint Helena  11.0"
      ]
     },
     "execution_count": 19,
     "metadata": {},
     "output_type": "execute_result"
    }
   ],
   "source": [
    "CO2.nsmallest(5,'2011')[['Country','2011']].sort_values(by=['2011'], ascending=False)"
   ]
  },
  {
   "cell_type": "markdown",
   "metadata": {},
   "source": [
    "#### There is only one country that is nolonger part of the Top 5 in 2011 with reference to 1990. This country is:\n",
    "- United Kingdom\n",
    "\n",
    "#### There are three countries that are no longer part of the bottom 5 in 2011 with reference to 1990. These countries are:\n",
    "- Kiribati\n",
    "- Somalia\n",
    "- Yemen"
   ]
  },
  {
   "cell_type": "markdown",
   "metadata": {},
   "source": [
    "- There are no problems with the data."
   ]
  },
  {
   "cell_type": "markdown",
   "metadata": {},
   "source": [
    "### The mean and median CO2 emissions for 1990."
   ]
  },
  {
   "cell_type": "code",
   "execution_count": 20,
   "metadata": {},
   "outputs": [
    {
     "data": {
      "text/plain": [
       "91078.15"
      ]
     },
     "execution_count": 20,
     "metadata": {},
     "output_type": "execute_result"
    }
   ],
   "source": [
    "round(CO2['1990'].mean(),2)"
   ]
  },
  {
   "cell_type": "markdown",
   "metadata": {},
   "source": [
    "- The Mean value is: 91078.15"
   ]
  },
  {
   "cell_type": "code",
   "execution_count": 21,
   "metadata": {},
   "outputs": [
    {
     "data": {
      "text/plain": [
       "3017.9"
      ]
     },
     "execution_count": 21,
     "metadata": {},
     "output_type": "execute_result"
    }
   ],
   "source": [
    "CO2['1990'].median()"
   ]
  },
  {
   "cell_type": "markdown",
   "metadata": {},
   "source": [
    "- The Median value is: 3017.9"
   ]
  },
  {
   "cell_type": "markdown",
   "metadata": {},
   "source": [
    "- The distribution that is expected from the values of the mean and median is a distrubution that is skewed to the right since it has been statistically proven that a distribution that is skewed to the right means that the Mean is greater than the Median "
   ]
  },
  {
   "cell_type": "markdown",
   "metadata": {},
   "source": [
    "### Calculations of the minimum, maximum and interquartile range of the CO2 emissions for 1990. Using this information, and the mean and median, there will be an explanation of what it says about the distribution of CO2 emissions."
   ]
  },
  {
   "cell_type": "code",
   "execution_count": 22,
   "metadata": {},
   "outputs": [
    {
     "data": {
      "text/plain": [
       "count    1.810000e+02\n",
       "mean     9.107815e+04\n",
       "std      4.167407e+05\n",
       "min      3.700000e+00\n",
       "25%      5.574000e+02\n",
       "50%      3.017900e+03\n",
       "75%      4.219620e+04\n",
       "max      4.823557e+06\n",
       "Name: 1990, dtype: float64"
      ]
     },
     "execution_count": 22,
     "metadata": {},
     "output_type": "execute_result"
    }
   ],
   "source": [
    "CO2['1990'].describe()"
   ]
  },
  {
   "cell_type": "code",
   "execution_count": 23,
   "metadata": {},
   "outputs": [
    {
     "data": {
      "text/plain": [
       "3.7"
      ]
     },
     "execution_count": 23,
     "metadata": {},
     "output_type": "execute_result"
    }
   ],
   "source": [
    "CO2['1990'].min()"
   ]
  },
  {
   "cell_type": "code",
   "execution_count": 24,
   "metadata": {},
   "outputs": [
    {
     "data": {
      "text/plain": [
       "4823557.1"
      ]
     },
     "execution_count": 24,
     "metadata": {},
     "output_type": "execute_result"
    }
   ],
   "source": [
    "CO2['1990'].max()"
   ]
  },
  {
   "cell_type": "code",
   "execution_count": 25,
   "metadata": {},
   "outputs": [
    {
     "data": {
      "text/plain": [
       "41638.8"
      ]
     },
     "execution_count": 25,
     "metadata": {},
     "output_type": "execute_result"
    }
   ],
   "source": [
    "Q3,Q1 = CO2['1990'].quantile(0.75), CO2['1990'].quantile(0.25)\n",
    "IQR = Q3 - Q1\n",
    "round(IQR,2)"
   ]
  },
  {
   "cell_type": "markdown",
   "metadata": {},
   "source": [
    "- The Minimum value of the CO2 emmisions for 1990 is: 3.7\n",
    "- The Maximum value of the CO2 emmisions for 1990 is: 4823557.1\n",
    "- The Interquatile range (IQR) of the CO2 emmisions for 1990 is: 41638.8"
   ]
  },
  {
   "cell_type": "code",
   "execution_count": 26,
   "metadata": {},
   "outputs": [
    {
     "data": {
      "text/plain": [
       "416740.74"
      ]
     },
     "execution_count": 26,
     "metadata": {},
     "output_type": "execute_result"
    }
   ],
   "source": [
    "round(CO2['1990'].std(),2)"
   ]
  },
  {
   "cell_type": "markdown",
   "metadata": {},
   "source": [
    "The standard deviation is: 416740.74"
   ]
  },
  {
   "cell_type": "markdown",
   "metadata": {},
   "source": [
    "- A high standard deviation indicates data are more spread out as opposed to being clustered around the mean"
   ]
  },
  {
   "cell_type": "markdown",
   "metadata": {},
   "source": [
    "### A histogram of the CO2 emissions for 1990. "
   ]
  },
  {
   "cell_type": "code",
   "execution_count": 53,
   "metadata": {},
   "outputs": [
    {
     "data": {
      "text/plain": [
       "[Text(0, 0.5, 'Frequency'),\n",
       " Text(0.5, 0, 'CO2 emissions for 1990 [log]'),\n",
       " Text(0.5, 1.0, 'Histogram')]"
      ]
     },
     "execution_count": 53,
     "metadata": {},
     "output_type": "execute_result"
    },
    {
     "data": {
      "image/png": "[encoded data removed]",
      "text/plain": [
       "<Figure size 864x576 with 1 Axes>"
      ]
     },
     "metadata": {},
     "output_type": "display_data"
    }
   ],
   "source": [
    "graph_1990 = sns.histplot(CO2['1990'], bins=10, kde=True, log_scale=True)\n",
    "graph_1990.set(ylabel='Frequency', xlabel='CO2 emissions for 1990 [log]', title='Histogram')"
   ]
  },
  {
   "cell_type": "markdown",
   "metadata": {},
   "source": [
    "- This graph representation is what I expected since it is clear from the Histogram that this distribution is a bit skewed to the right which validates that the mean is greater than the median. Moreover, the data in the distribution is more spread out which validates the high value of the standard deviation."
   ]
  },
  {
   "cell_type": "markdown",
   "metadata": {},
   "source": [
    "### Calculations of the standard deviation and standard error of the mean for CO2 emissions in 1990 together with an explanation of how the standard error is different from the standard deviation."
   ]
  },
  {
   "cell_type": "code",
   "execution_count": 28,
   "metadata": {},
   "outputs": [
    {
     "data": {
      "text/plain": [
       "416740.74"
      ]
     },
     "execution_count": 28,
     "metadata": {},
     "output_type": "execute_result"
    }
   ],
   "source": [
    "round(CO2['1990'].std(), 2)"
   ]
  },
  {
   "cell_type": "markdown",
   "metadata": {},
   "source": [
    "The standard deviation of the mean for CO2 emissions in 1990 is: 416740.74"
   ]
  },
  {
   "cell_type": "code",
   "execution_count": 29,
   "metadata": {},
   "outputs": [
    {
     "data": {
      "text/plain": [
       "30976.1"
      ]
     },
     "execution_count": 29,
     "metadata": {},
     "output_type": "execute_result"
    }
   ],
   "source": [
    "round(CO2['1990'].sem(), 2)"
   ]
  },
  {
   "cell_type": "markdown",
   "metadata": {},
   "source": [
    "The standard error of the mean for CO2 emissions in 1990 is: 30976.1"
   ]
  },
  {
   "cell_type": "markdown",
   "metadata": {},
   "source": [
    "- Standard Deviation - is defined as an absolute measure of dispersion of a series. It clarifies the standard amount of variation on either side of the mean.\n",
    "- Standard Error - is used to measure the statistical accuracy of an estimate. It is primarily used in the process of testing hypothesis and estimating interval."
   ]
  },
  {
   "cell_type": "markdown",
   "metadata": {},
   "source": [
    "### Creating a line graph to show CO2 emissions in Brazil, Russia, China, India, the USA and South Africa over time and describing what the graph tells us about the difference and change in C02 emissions in these countries"
   ]
  },
  {
   "cell_type": "markdown",
   "metadata": {},
   "source": [
    "#### Getting country code"
   ]
  },
  {
   "cell_type": "code",
   "execution_count": 30,
   "metadata": {},
   "outputs": [
    {
     "data": {
      "text/plain": [
       "82    Brazil\n",
       "Name: Country, dtype: object"
      ]
     },
     "metadata": {},
     "output_type": "display_data"
    },
    {
     "data": {
      "text/plain": [
       "499    Russian Federation\n",
       "Name: Country, dtype: object"
      ]
     },
     "metadata": {},
     "output_type": "display_data"
    },
    {
     "data": {
      "text/plain": [
       "124    China\n",
       "Name: Country, dtype: object"
      ]
     },
     "metadata": {},
     "output_type": "display_data"
    },
    {
     "data": {
      "text/plain": [
       "277    India\n",
       "Name: Country, dtype: object"
      ]
     },
     "metadata": {},
     "output_type": "display_data"
    },
    {
     "data": {
      "text/plain": [
       "652    United States\n",
       "Name: Country, dtype: object"
      ]
     },
     "metadata": {},
     "output_type": "display_data"
    },
    {
     "data": {
      "text/plain": [
       "562    South Africa\n",
       "Name: Country, dtype: object"
      ]
     },
     "metadata": {},
     "output_type": "display_data"
    }
   ],
   "source": [
    "brazil = CO2[\"Country\"][CO2[\"Country\"] == \"Brazil\"]\n",
    "russia = CO2[\"Country\"][CO2[\"Country\"] == \"Russian Federation\"]\n",
    "china = CO2[\"Country\"][CO2[\"Country\"] == \"China\"]\n",
    "india = CO2[\"Country\"][CO2[\"Country\"] == \"India\"]\n",
    "usa = CO2[\"Country\"][CO2[\"Country\"] == \"United States\"]\n",
    "south_africa = CO2[\"Country\"][CO2[\"Country\"] == \"South Africa\"]\n",
    "\n",
    "display(brazil, russia, china, india, usa, south_africa)"
   ]
  },
  {
   "cell_type": "code",
   "execution_count": 31,
   "metadata": {},
   "outputs": [
    {
     "data": {
      "text/html": [
       "<div>\n",
       "<style scoped>\n",
       "    .dataframe tbody tr th:only-of-type {\n",
       "        vertical-align: middle;\n",
       "    }\n",
       "\n",
       "    .dataframe tbody tr th {\n",
       "        vertical-align: top;\n",
       "    }\n",
       "\n",
       "    .dataframe thead th {\n",
       "        text-align: right;\n",
       "    }\n",
       "</style>\n",
       "<table border=\"1\" class=\"dataframe\">\n",
       "  <thead>\n",
       "    <tr style=\"text-align: right;\">\n",
       "      <th></th>\n",
       "      <th>Country</th>\n",
       "      <th>1990</th>\n",
       "      <th>1991</th>\n",
       "      <th>1992</th>\n",
       "      <th>1993</th>\n",
       "      <th>1994</th>\n",
       "      <th>1995</th>\n",
       "      <th>1996</th>\n",
       "      <th>1997</th>\n",
       "      <th>1998</th>\n",
       "      <th>...</th>\n",
       "      <th>2002</th>\n",
       "      <th>2003</th>\n",
       "      <th>2004</th>\n",
       "      <th>2005</th>\n",
       "      <th>2006</th>\n",
       "      <th>2007</th>\n",
       "      <th>2008</th>\n",
       "      <th>2009</th>\n",
       "      <th>2010</th>\n",
       "      <th>2011</th>\n",
       "    </tr>\n",
       "  </thead>\n",
       "  <tbody>\n",
       "    <tr>\n",
       "      <th>0</th>\n",
       "      <td>Brazil</td>\n",
       "      <td>208887.0</td>\n",
       "      <td>219330.6</td>\n",
       "      <td>220705.7</td>\n",
       "      <td>230738.6</td>\n",
       "      <td>242154.0</td>\n",
       "      <td>258347.5</td>\n",
       "      <td>284782.9</td>\n",
       "      <td>300547.3</td>\n",
       "      <td>312289.1</td>\n",
       "      <td>...</td>\n",
       "      <td>332266.9</td>\n",
       "      <td>321621.6</td>\n",
       "      <td>337826.0</td>\n",
       "      <td>347308.9</td>\n",
       "      <td>347668.3</td>\n",
       "      <td>363212.7</td>\n",
       "      <td>387675.2</td>\n",
       "      <td>367147.4</td>\n",
       "      <td>419754.2</td>\n",
       "      <td>439412.9</td>\n",
       "    </tr>\n",
       "    <tr>\n",
       "      <th>1</th>\n",
       "      <td>China</td>\n",
       "      <td>2460744.0</td>\n",
       "      <td>2584538.3</td>\n",
       "      <td>2695982.1</td>\n",
       "      <td>2878694.0</td>\n",
       "      <td>3058241.3</td>\n",
       "      <td>3320285.2</td>\n",
       "      <td>3463089.1</td>\n",
       "      <td>3469510.0</td>\n",
       "      <td>3324344.5</td>\n",
       "      <td>...</td>\n",
       "      <td>3694242.1</td>\n",
       "      <td>4525177.0</td>\n",
       "      <td>5288166.0</td>\n",
       "      <td>5790017.0</td>\n",
       "      <td>6414463.1</td>\n",
       "      <td>6791804.7</td>\n",
       "      <td>7035443.9</td>\n",
       "      <td>7692210.9</td>\n",
       "      <td>8256969.2</td>\n",
       "      <td>9019518.2</td>\n",
       "    </tr>\n",
       "    <tr>\n",
       "      <th>2</th>\n",
       "      <td>India</td>\n",
       "      <td>690576.8</td>\n",
       "      <td>737851.7</td>\n",
       "      <td>783634.2</td>\n",
       "      <td>814297.7</td>\n",
       "      <td>864931.6</td>\n",
       "      <td>920046.6</td>\n",
       "      <td>1002224.1</td>\n",
       "      <td>1043939.9</td>\n",
       "      <td>1071911.8</td>\n",
       "      <td>...</td>\n",
       "      <td>1226791.2</td>\n",
       "      <td>1281913.5</td>\n",
       "      <td>1348524.6</td>\n",
       "      <td>1411127.6</td>\n",
       "      <td>1504364.7</td>\n",
       "      <td>1611199.1</td>\n",
       "      <td>1793075.0</td>\n",
       "      <td>1965820.0</td>\n",
       "      <td>1950950.3</td>\n",
       "      <td>2074344.9</td>\n",
       "    </tr>\n",
       "    <tr>\n",
       "      <th>3</th>\n",
       "      <td>Russian Federation</td>\n",
       "      <td>0.0</td>\n",
       "      <td>0.0</td>\n",
       "      <td>2081840.2</td>\n",
       "      <td>1941203.5</td>\n",
       "      <td>1701132.3</td>\n",
       "      <td>1634312.2</td>\n",
       "      <td>1615804.9</td>\n",
       "      <td>1528849.3</td>\n",
       "      <td>1498343.5</td>\n",
       "      <td>...</td>\n",
       "      <td>1557660.9</td>\n",
       "      <td>1604968.9</td>\n",
       "      <td>1602955.7</td>\n",
       "      <td>1615687.5</td>\n",
       "      <td>1669618.1</td>\n",
       "      <td>1667597.6</td>\n",
       "      <td>1715639.0</td>\n",
       "      <td>1574367.8</td>\n",
       "      <td>1742540.1</td>\n",
       "      <td>1808073.0</td>\n",
       "    </tr>\n",
       "    <tr>\n",
       "      <th>4</th>\n",
       "      <td>South Africa</td>\n",
       "      <td>319795.4</td>\n",
       "      <td>332618.9</td>\n",
       "      <td>307822.6</td>\n",
       "      <td>321104.5</td>\n",
       "      <td>337576.7</td>\n",
       "      <td>353458.5</td>\n",
       "      <td>358639.9</td>\n",
       "      <td>371327.8</td>\n",
       "      <td>372218.8</td>\n",
       "      <td>...</td>\n",
       "      <td>347686.6</td>\n",
       "      <td>380810.6</td>\n",
       "      <td>424774.3</td>\n",
       "      <td>391819.0</td>\n",
       "      <td>422445.7</td>\n",
       "      <td>440989.8</td>\n",
       "      <td>469090.0</td>\n",
       "      <td>477806.4</td>\n",
       "      <td>454950.0</td>\n",
       "      <td>477241.7</td>\n",
       "    </tr>\n",
       "    <tr>\n",
       "      <th>5</th>\n",
       "      <td>United States</td>\n",
       "      <td>4823557.1</td>\n",
       "      <td>4822383.7</td>\n",
       "      <td>4911103.1</td>\n",
       "      <td>5032931.8</td>\n",
       "      <td>5098475.8</td>\n",
       "      <td>5138009.7</td>\n",
       "      <td>5260696.5</td>\n",
       "      <td>5375235.3</td>\n",
       "      <td>5410918.9</td>\n",
       "      <td>...</td>\n",
       "      <td>5648727.5</td>\n",
       "      <td>5679222.2</td>\n",
       "      <td>5763456.9</td>\n",
       "      <td>5795161.8</td>\n",
       "      <td>5703871.8</td>\n",
       "      <td>5794923.4</td>\n",
       "      <td>5622464.4</td>\n",
       "      <td>5274132.4</td>\n",
       "      <td>5408869.0</td>\n",
       "      <td>5305569.6</td>\n",
       "    </tr>\n",
       "  </tbody>\n",
       "</table>\n",
       "<p>6 rows × 23 columns</p>\n",
       "</div>"
      ],
      "text/plain": [
       "              Country       1990       1991       1992       1993       1994  \\\n",
       "0              Brazil   208887.0   219330.6   220705.7   230738.6   242154.0   \n",
       "1               China  2460744.0  2584538.3  2695982.1  2878694.0  3058241.3   \n",
       "2               India   690576.8   737851.7   783634.2   814297.7   864931.6   \n",
       "3  Russian Federation        0.0        0.0  2081840.2  1941203.5  1701132.3   \n",
       "4        South Africa   319795.4   332618.9   307822.6   321104.5   337576.7   \n",
       "5       United States  4823557.1  4822383.7  4911103.1  5032931.8  5098475.8   \n",
       "\n",
       "        1995       1996       1997       1998  ...       2002       2003  \\\n",
       "0   258347.5   284782.9   300547.3   312289.1  ...   332266.9   321621.6   \n",
       "1  3320285.2  3463089.1  3469510.0  3324344.5  ...  3694242.1  4525177.0   \n",
       "2   920046.6  1002224.1  1043939.9  1071911.8  ...  1226791.2  1281913.5   \n",
       "3  1634312.2  1615804.9  1528849.3  1498343.5  ...  1557660.9  1604968.9   \n",
       "4   353458.5   358639.9   371327.8   372218.8  ...   347686.6   380810.6   \n",
       "5  5138009.7  5260696.5  5375235.3  5410918.9  ...  5648727.5  5679222.2   \n",
       "\n",
       "        2004       2005       2006       2007       2008       2009  \\\n",
       "0   337826.0   347308.9   347668.3   363212.7   387675.2   367147.4   \n",
       "1  5288166.0  5790017.0  6414463.1  6791804.7  7035443.9  7692210.9   \n",
       "2  1348524.6  1411127.6  1504364.7  1611199.1  1793075.0  1965820.0   \n",
       "3  1602955.7  1615687.5  1669618.1  1667597.6  1715639.0  1574367.8   \n",
       "4   424774.3   391819.0   422445.7   440989.8   469090.0   477806.4   \n",
       "5  5763456.9  5795161.8  5703871.8  5794923.4  5622464.4  5274132.4   \n",
       "\n",
       "        2010       2011  \n",
       "0   419754.2   439412.9  \n",
       "1  8256969.2  9019518.2  \n",
       "2  1950950.3  2074344.9  \n",
       "3  1742540.1  1808073.0  \n",
       "4   454950.0   477241.7  \n",
       "5  5408869.0  5305569.6  \n",
       "\n",
       "[6 rows x 23 columns]"
      ]
     },
     "execution_count": 31,
     "metadata": {},
     "output_type": "execute_result"
    }
   ],
   "source": [
    "selected_countries = df1.loc[(82,499,124,277,652,562),(\"Country\",\n",
    "                                                       \"1990\",\"1991\",\"1992\",\"1993\",\"1994\",\"1995\",\n",
    "                                                       \"1996\",\"1997\",\"1998\",\"1999\",\"2000\",\"2001\",\n",
    "                                                       \"2002\",\"2003\",\"2004\",\"2005\",\"2006\",\"2007\",\n",
    "                                                       \"2008\",\"2009\",\"2010\",\"2011\")]\n",
    "\n",
    "CO2_all_years = selected_countries.groupby(\"Country\")[[\"1990\",\"1991\",\"1992\",\"1993\",\"1994\",\"1995\",\n",
    "                                                       \"1996\",\"1997\",\"1998\",\"1999\",\"2000\",\"2001\",\n",
    "                                                       \"2002\",\"2003\",\"2004\",\"2005\",\"2006\",\"2007\",\n",
    "                                                       \"2008\",\"2009\",\"2010\",\"2011\"]].apply(lambda \n",
    "                                                         Country : Country.sum()).reset_index()\n",
    "\n",
    "CO2_all_years"
   ]
  },
  {
   "cell_type": "code",
   "execution_count": 32,
   "metadata": {},
   "outputs": [
    {
     "data": {
      "image/png": "[encoded data removed]",
      "text/plain": [
       "<Figure size 864x576 with 1 Axes>"
      ]
     },
     "metadata": {},
     "output_type": "display_data"
    }
   ],
   "source": [
    "line_graph = CO2_all_years.set_index(\"Country\").T\n",
    "fig, ax = plt.subplots(figsize=(12,8))\n",
    "ax.set_title('CO2 emissions by Country (1990 - 2011)', fontsize = 22, weight='bold')\n",
    "ax.set_xlabel('Years', fontsize = 22, weight='bold')\n",
    "ax.set_ylabel('Carbon dioxide emissions', fontsize = 22, weight='bold')\n",
    "line_graph.plot(ax=ax, linewidth=2)\n",
    "plt.legend(loc=2, prop={'size': 17})\n",
    "plt.show()"
   ]
  },
  {
   "cell_type": "markdown",
   "metadata": {},
   "source": [
    "### Insights"
   ]
  },
  {
   "cell_type": "markdown",
   "metadata": {},
   "source": [
    "- From 2012 - 2019, the dataset does not seem to have enough information to be represented on this line graph which is why the displayed representation of CO2 emissions ends in the year 2011. \n",
    "\n",
    "- It is quite evident that from the graph that Countries like South Africa and Brazil have managed to keep their carbon dioxide emissions at a steady and low rate compared to other countries like China and the United States which have very high carbon dioxide emissions. \n",
    "\n",
    "- India and the Russian Federation are at almost the same level in terms emissions but still have high carbon dioxide emissions than South africa and Brazil"
   ]
  },
  {
   "cell_type": "markdown",
   "metadata": {},
   "source": [
    "### The mean and standard deviation for land area covered by forest in 1990 and the reason why the standard deviation is so large"
   ]
  },
  {
   "cell_type": "code",
   "execution_count": 33,
   "metadata": {},
   "outputs": [
    {
     "data": {
      "text/html": [
       "<div>\n",
       "<style scoped>\n",
       "    .dataframe tbody tr th:only-of-type {\n",
       "        vertical-align: middle;\n",
       "    }\n",
       "\n",
       "    .dataframe tbody tr th {\n",
       "        vertical-align: top;\n",
       "    }\n",
       "\n",
       "    .dataframe thead th {\n",
       "        text-align: right;\n",
       "    }\n",
       "</style>\n",
       "<table border=\"1\" class=\"dataframe\">\n",
       "  <thead>\n",
       "    <tr style=\"text-align: right;\">\n",
       "      <th></th>\n",
       "      <th>CountryCode</th>\n",
       "      <th>Country</th>\n",
       "      <th>SeriesCode</th>\n",
       "      <th>MDG</th>\n",
       "      <th>Series</th>\n",
       "      <th>1990</th>\n",
       "      <th>1991</th>\n",
       "      <th>1992</th>\n",
       "      <th>1993</th>\n",
       "      <th>1994</th>\n",
       "      <th>...</th>\n",
       "      <th>2010</th>\n",
       "      <th>2011</th>\n",
       "      <th>2012</th>\n",
       "      <th>2013</th>\n",
       "      <th>2014</th>\n",
       "      <th>2015</th>\n",
       "      <th>2016</th>\n",
       "      <th>2017</th>\n",
       "      <th>2018</th>\n",
       "      <th>2019</th>\n",
       "    </tr>\n",
       "  </thead>\n",
       "  <tbody>\n",
       "    <tr>\n",
       "      <th>0</th>\n",
       "      <td>4</td>\n",
       "      <td>Afghanistan</td>\n",
       "      <td>567</td>\n",
       "      <td>Y</td>\n",
       "      <td>Proportion of land area covered by forest, per...</td>\n",
       "      <td>2.1</td>\n",
       "      <td>NaN</td>\n",
       "      <td>NaN</td>\n",
       "      <td>NaN</td>\n",
       "      <td>NaN</td>\n",
       "      <td>...</td>\n",
       "      <td>2.1</td>\n",
       "      <td>NaN</td>\n",
       "      <td>NaN</td>\n",
       "      <td>NaN</td>\n",
       "      <td>NaN</td>\n",
       "      <td>NaN</td>\n",
       "      <td>NaN</td>\n",
       "      <td>NaN</td>\n",
       "      <td>NaN</td>\n",
       "      <td>NaN</td>\n",
       "    </tr>\n",
       "    <tr>\n",
       "      <th>3</th>\n",
       "      <td>8</td>\n",
       "      <td>Albania</td>\n",
       "      <td>567</td>\n",
       "      <td>Y</td>\n",
       "      <td>Proportion of land area covered by forest, per...</td>\n",
       "      <td>28.8</td>\n",
       "      <td>NaN</td>\n",
       "      <td>NaN</td>\n",
       "      <td>NaN</td>\n",
       "      <td>NaN</td>\n",
       "      <td>...</td>\n",
       "      <td>28.3</td>\n",
       "      <td>NaN</td>\n",
       "      <td>NaN</td>\n",
       "      <td>NaN</td>\n",
       "      <td>NaN</td>\n",
       "      <td>NaN</td>\n",
       "      <td>NaN</td>\n",
       "      <td>NaN</td>\n",
       "      <td>NaN</td>\n",
       "      <td>NaN</td>\n",
       "    </tr>\n",
       "  </tbody>\n",
       "</table>\n",
       "<p>2 rows × 35 columns</p>\n",
       "</div>"
      ],
      "text/plain": [
       "   CountryCode      Country  SeriesCode MDG  \\\n",
       "0            4  Afghanistan         567   Y   \n",
       "3            8      Albania         567   Y   \n",
       "\n",
       "                                              Series  1990  1991  1992  1993  \\\n",
       "0  Proportion of land area covered by forest, per...   2.1   NaN   NaN   NaN   \n",
       "3  Proportion of land area covered by forest, per...  28.8   NaN   NaN   NaN   \n",
       "\n",
       "   1994  ...  2010  2011  2012  2013  2014  2015  2016  2017  2018  2019  \n",
       "0   NaN  ...   2.1   NaN   NaN   NaN   NaN   NaN   NaN   NaN   NaN   NaN  \n",
       "3   NaN  ...  28.3   NaN   NaN   NaN   NaN   NaN   NaN   NaN   NaN   NaN  \n",
       "\n",
       "[2 rows x 35 columns]"
      ]
     },
     "execution_count": 33,
     "metadata": {},
     "output_type": "execute_result"
    }
   ],
   "source": [
    "forest_area = df1.loc[df1[\"SeriesCode\"] == 567]\n",
    "forest_area.head(2)"
   ]
  },
  {
   "cell_type": "code",
   "execution_count": 34,
   "metadata": {},
   "outputs": [
    {
     "data": {
      "text/plain": [
       "32.98"
      ]
     },
     "execution_count": 34,
     "metadata": {},
     "output_type": "execute_result"
    }
   ],
   "source": [
    "forest_area.loc[:, ('Country','1990')]\n",
    "round(forest_area['1990'].mean(),2)"
   ]
  },
  {
   "cell_type": "markdown",
   "metadata": {},
   "source": [
    "The Mean of the area covered by forest in 1990: 32.98"
   ]
  },
  {
   "cell_type": "code",
   "execution_count": 35,
   "metadata": {},
   "outputs": [
    {
     "data": {
      "text/plain": [
       "25.5"
      ]
     },
     "execution_count": 35,
     "metadata": {},
     "output_type": "execute_result"
    }
   ],
   "source": [
    "round(forest_area['1990'].std(),2)"
   ]
  },
  {
   "cell_type": "markdown",
   "metadata": {},
   "source": [
    "The Standard deviation of the area covered by forest in 1990: 25.5"
   ]
  },
  {
   "cell_type": "markdown",
   "metadata": {},
   "source": [
    "- The Standard deviation is large due to data being more spread out"
   ]
  },
  {
   "cell_type": "code",
   "execution_count": 36,
   "metadata": {},
   "outputs": [
    {
     "data": {
      "text/html": [
       "<div>\n",
       "<style scoped>\n",
       "    .dataframe tbody tr th:only-of-type {\n",
       "        vertical-align: middle;\n",
       "    }\n",
       "\n",
       "    .dataframe tbody tr th {\n",
       "        vertical-align: top;\n",
       "    }\n",
       "\n",
       "    .dataframe thead th {\n",
       "        text-align: right;\n",
       "    }\n",
       "</style>\n",
       "<table border=\"1\" class=\"dataframe\">\n",
       "  <thead>\n",
       "    <tr style=\"text-align: right;\">\n",
       "      <th></th>\n",
       "      <th>CountryCode</th>\n",
       "      <th>Country</th>\n",
       "      <th>SeriesCode</th>\n",
       "      <th>MDG</th>\n",
       "      <th>Series</th>\n",
       "      <th>1990</th>\n",
       "      <th>1991</th>\n",
       "      <th>1992</th>\n",
       "      <th>1993</th>\n",
       "      <th>1994</th>\n",
       "      <th>...</th>\n",
       "      <th>2010</th>\n",
       "      <th>2011</th>\n",
       "      <th>2012</th>\n",
       "      <th>2013</th>\n",
       "      <th>2014</th>\n",
       "      <th>2015</th>\n",
       "      <th>2016</th>\n",
       "      <th>2017</th>\n",
       "      <th>2018</th>\n",
       "      <th>2019</th>\n",
       "    </tr>\n",
       "  </thead>\n",
       "  <tbody>\n",
       "    <tr>\n",
       "      <th>2</th>\n",
       "      <td>4</td>\n",
       "      <td>Afghanistan</td>\n",
       "      <td>616</td>\n",
       "      <td>Y</td>\n",
       "      <td>Terrestrial and marine areas protected to tota...</td>\n",
       "      <td>0.36</td>\n",
       "      <td>NaN</td>\n",
       "      <td>NaN</td>\n",
       "      <td>NaN</td>\n",
       "      <td>NaN</td>\n",
       "      <td>...</td>\n",
       "      <td>NaN</td>\n",
       "      <td>NaN</td>\n",
       "      <td>NaN</td>\n",
       "      <td>NaN</td>\n",
       "      <td>0.46</td>\n",
       "      <td>NaN</td>\n",
       "      <td>NaN</td>\n",
       "      <td>NaN</td>\n",
       "      <td>NaN</td>\n",
       "      <td>NaN</td>\n",
       "    </tr>\n",
       "    <tr>\n",
       "      <th>5</th>\n",
       "      <td>8</td>\n",
       "      <td>Albania</td>\n",
       "      <td>616</td>\n",
       "      <td>Y</td>\n",
       "      <td>Terrestrial and marine areas protected to tota...</td>\n",
       "      <td>0.15</td>\n",
       "      <td>NaN</td>\n",
       "      <td>NaN</td>\n",
       "      <td>NaN</td>\n",
       "      <td>NaN</td>\n",
       "      <td>...</td>\n",
       "      <td>NaN</td>\n",
       "      <td>NaN</td>\n",
       "      <td>NaN</td>\n",
       "      <td>NaN</td>\n",
       "      <td>1.91</td>\n",
       "      <td>NaN</td>\n",
       "      <td>NaN</td>\n",
       "      <td>NaN</td>\n",
       "      <td>NaN</td>\n",
       "      <td>NaN</td>\n",
       "    </tr>\n",
       "  </tbody>\n",
       "</table>\n",
       "<p>2 rows × 35 columns</p>\n",
       "</div>"
      ],
      "text/plain": [
       "   CountryCode      Country  SeriesCode MDG  \\\n",
       "2            4  Afghanistan         616   Y   \n",
       "5            8      Albania         616   Y   \n",
       "\n",
       "                                              Series  1990  1991  1992  1993  \\\n",
       "2  Terrestrial and marine areas protected to tota...  0.36   NaN   NaN   NaN   \n",
       "5  Terrestrial and marine areas protected to tota...  0.15   NaN   NaN   NaN   \n",
       "\n",
       "   1994  ...  2010  2011  2012  2013  2014  2015  2016  2017  2018  2019  \n",
       "2   NaN  ...   NaN   NaN   NaN   NaN  0.46   NaN   NaN   NaN   NaN   NaN  \n",
       "5   NaN  ...   NaN   NaN   NaN   NaN  1.91   NaN   NaN   NaN   NaN   NaN  \n",
       "\n",
       "[2 rows x 35 columns]"
      ]
     },
     "execution_count": 36,
     "metadata": {},
     "output_type": "execute_result"
    }
   ],
   "source": [
    "protected_area = df1.loc[df1[\"SeriesCode\"] == 616]\n",
    "protected_area = protected_area.replace(0, 0.0001)\n",
    "protected_area = protected_area.interpolate(method='linear', axis=0).ffill().bfill()\n",
    "protected_area.head(2)"
   ]
  },
  {
   "cell_type": "markdown",
   "metadata": {},
   "source": [
    "### Histograms for land area covered by forest and percentage of area protected in 1990"
   ]
  },
  {
   "cell_type": "code",
   "execution_count": 37,
   "metadata": {},
   "outputs": [
    {
     "data": {
      "text/plain": [
       "[Text(0.5, 0, 'Forest'),\n",
       " Text(0, 0.5, 'Frequency'),\n",
       " Text(0.5, 1.0, 'Histogram for Forested Land')]"
      ]
     },
     "execution_count": 37,
     "metadata": {},
     "output_type": "execute_result"
    },
    {
     "data": {
      "image/png": "[encoded data removed]",
      "text/plain": [
       "<Figure size 864x576 with 1 Axes>"
      ]
     },
     "metadata": {},
     "output_type": "display_data"
    }
   ],
   "source": [
    "f_1990 = sns.histplot(forest_area['1990'], bins=10, kde=True, color='green')\n",
    "f_1990.set(xlabel='Forest', ylabel='Frequency', title='Histogram for Forested Land')"
   ]
  },
  {
   "cell_type": "code",
   "execution_count": 38,
   "metadata": {},
   "outputs": [
    {
     "data": {
      "text/plain": [
       "[Text(0.5, 0, 'Protected'),\n",
       " Text(0, 0.5, 'Frequency'),\n",
       " Text(0.5, 1.0, 'Histogram for Protected Land')]"
      ]
     },
     "execution_count": 38,
     "metadata": {},
     "output_type": "execute_result"
    },
    {
     "data": {
      "image/png": "[encoded data removed]",
      "text/plain": [
       "<Figure size 864x576 with 1 Axes>"
      ]
     },
     "metadata": {},
     "output_type": "display_data"
    }
   ],
   "source": [
    "p_1990 = sns.histplot(protected_area['1990'], bins=10, kde=True, color='brown')\n",
    "p_1990.set(xlabel='Protected', ylabel='Frequency', title='Histogram for Protected Land')"
   ]
  },
  {
   "cell_type": "markdown",
   "metadata": {},
   "source": [
    "### Insights\n",
    "\n",
    "- Both graphs have a positively skewed distribution.\n",
    "- The histogram representing the Protected area is extremely indicative of an exponential distribution, the distribution shows that the peak was from 0 to 10 percent in the year 1990, by interpreting this we can conclude that in 1990, 0 to 10 percent of the land in many countries was protected.\n",
    "- The histogram representing the Land covered by forest shows a positively skewed distribution as it is clear that most values are situated on the left side of the histogram."
   ]
  },
  {
   "cell_type": "markdown",
   "metadata": {},
   "source": [
    "###  Scatterplot with a regression line to show the relationship between the proportion of land area covered by forest and the percentage of area protected in 2000."
   ]
  },
  {
   "cell_type": "code",
   "execution_count": 39,
   "metadata": {},
   "outputs": [],
   "source": [
    "forest_2000 = forest_area.groupby('Country')['2000'].sum()\n",
    "protected_2000 = protected_area.groupby('Country')['2000'].sum()"
   ]
  },
  {
   "cell_type": "code",
   "execution_count": 40,
   "metadata": {},
   "outputs": [
    {
     "data": {
      "text/html": [
       "<div>\n",
       "<style scoped>\n",
       "    .dataframe tbody tr th:only-of-type {\n",
       "        vertical-align: middle;\n",
       "    }\n",
       "\n",
       "    .dataframe tbody tr th {\n",
       "        vertical-align: top;\n",
       "    }\n",
       "\n",
       "    .dataframe thead th {\n",
       "        text-align: right;\n",
       "    }\n",
       "</style>\n",
       "<table border=\"1\" class=\"dataframe\">\n",
       "  <thead>\n",
       "    <tr style=\"text-align: right;\">\n",
       "      <th></th>\n",
       "      <th>2000</th>\n",
       "      <th>2000</th>\n",
       "    </tr>\n",
       "    <tr>\n",
       "      <th>Country</th>\n",
       "      <th></th>\n",
       "      <th></th>\n",
       "    </tr>\n",
       "  </thead>\n",
       "  <tbody>\n",
       "    <tr>\n",
       "      <th>Afghanistan</th>\n",
       "      <td>2.1</td>\n",
       "      <td>0.36</td>\n",
       "    </tr>\n",
       "    <tr>\n",
       "      <th>Albania</th>\n",
       "      <td>28.1</td>\n",
       "      <td>0.48</td>\n",
       "    </tr>\n",
       "    <tr>\n",
       "      <th>Algeria</th>\n",
       "      <td>0.7</td>\n",
       "      <td>5.98</td>\n",
       "    </tr>\n",
       "    <tr>\n",
       "      <th>American Samoa</th>\n",
       "      <td>90.0</td>\n",
       "      <td>0.06</td>\n",
       "    </tr>\n",
       "    <tr>\n",
       "      <th>Andorra</th>\n",
       "      <td>35.6</td>\n",
       "      <td>9.25</td>\n",
       "    </tr>\n",
       "  </tbody>\n",
       "</table>\n",
       "</div>"
      ],
      "text/plain": [
       "                2000  2000\n",
       "Country                   \n",
       "Afghanistan      2.1  0.36\n",
       "Albania         28.1  0.48\n",
       "Algeria          0.7  5.98\n",
       "American Samoa  90.0  0.06\n",
       "Andorra         35.6  9.25"
      ]
     },
     "execution_count": 40,
     "metadata": {},
     "output_type": "execute_result"
    }
   ],
   "source": [
    "merged = pd.concat([forest_2000, protected_2000],axis=1)\n",
    "merged.head()"
   ]
  },
  {
   "cell_type": "markdown",
   "metadata": {},
   "source": [
    "#### Renaming the columns"
   ]
  },
  {
   "cell_type": "code",
   "execution_count": 41,
   "metadata": {},
   "outputs": [
    {
     "data": {
      "text/html": [
       "<div>\n",
       "<style scoped>\n",
       "    .dataframe tbody tr th:only-of-type {\n",
       "        vertical-align: middle;\n",
       "    }\n",
       "\n",
       "    .dataframe tbody tr th {\n",
       "        vertical-align: top;\n",
       "    }\n",
       "\n",
       "    .dataframe thead th {\n",
       "        text-align: right;\n",
       "    }\n",
       "</style>\n",
       "<table border=\"1\" class=\"dataframe\">\n",
       "  <thead>\n",
       "    <tr style=\"text-align: right;\">\n",
       "      <th></th>\n",
       "      <th>forest 2000</th>\n",
       "      <th>protected 2000</th>\n",
       "    </tr>\n",
       "    <tr>\n",
       "      <th>Country</th>\n",
       "      <th></th>\n",
       "      <th></th>\n",
       "    </tr>\n",
       "  </thead>\n",
       "  <tbody>\n",
       "    <tr>\n",
       "      <th>Afghanistan</th>\n",
       "      <td>2.1</td>\n",
       "      <td>0.36</td>\n",
       "    </tr>\n",
       "    <tr>\n",
       "      <th>Albania</th>\n",
       "      <td>28.1</td>\n",
       "      <td>0.48</td>\n",
       "    </tr>\n",
       "    <tr>\n",
       "      <th>Algeria</th>\n",
       "      <td>0.7</td>\n",
       "      <td>5.98</td>\n",
       "    </tr>\n",
       "    <tr>\n",
       "      <th>American Samoa</th>\n",
       "      <td>90.0</td>\n",
       "      <td>0.06</td>\n",
       "    </tr>\n",
       "    <tr>\n",
       "      <th>Andorra</th>\n",
       "      <td>35.6</td>\n",
       "      <td>9.25</td>\n",
       "    </tr>\n",
       "  </tbody>\n",
       "</table>\n",
       "</div>"
      ],
      "text/plain": [
       "                forest 2000  protected 2000\n",
       "Country                                    \n",
       "Afghanistan             2.1            0.36\n",
       "Albania                28.1            0.48\n",
       "Algeria                 0.7            5.98\n",
       "American Samoa         90.0            0.06\n",
       "Andorra                35.6            9.25"
      ]
     },
     "execution_count": 41,
     "metadata": {},
     "output_type": "execute_result"
    }
   ],
   "source": [
    "merged.columns = ['forest 2000', 'protected 2000']\n",
    "merged.head()"
   ]
  },
  {
   "cell_type": "code",
   "execution_count": 42,
   "metadata": {},
   "outputs": [
    {
     "data": {
      "text/plain": [
       "0.0001"
      ]
     },
     "execution_count": 42,
     "metadata": {},
     "output_type": "execute_result"
    }
   ],
   "source": [
    "merged['protected 2000'].min()"
   ]
  },
  {
   "cell_type": "code",
   "execution_count": 43,
   "metadata": {},
   "outputs": [
    {
     "data": {
      "image/png": "[encoded data removed]",
      "text/plain": [
       "<Figure size 864x576 with 1 Axes>"
      ]
     },
     "metadata": {},
     "output_type": "display_data"
    }
   ],
   "source": [
    "plt.figure(figsize=(12,8))\n",
    "plt.rcParams['axes.labelsize'] = (18)\n",
    "sns.regplot(x=merged['forest 2000'], y=merged['protected 2000'], data=merged, truncate=False)\n",
    "_ = plt.title('Forested vs Protected Land in 2000', fontsize=22, weight='bold')\n",
    "_ = plt.xlabel('Forest 2000', fontsize=22, weight='bold')\n",
    "_ = plt.ylabel('Protected 2000', fontsize=22, weight='bold')"
   ]
  },
  {
   "cell_type": "markdown",
   "metadata": {},
   "source": [
    "#### Description of the relationship between these two variables (\"protected 2000\" and \"forest 2000\")\n",
    "- These variables have a weak positive linear relationship\n",
    "\n",
    "#### Patterns in the scatterplot\n",
    "- The pattern here is difficult to describe, but the variables are not moving simultaneously at the same time, \n",
    "  these variables are moving in the same direction\n",
    "- Looking at the graph, it is clear that there are extreme values that aren't fitting or do not fit the general trend, these values are called outliers \n",
    "\n",
    "#### Defining outliers\n",
    "- Outliers are defined as abnormal values in a dataset that don’t go with the regular distribution and have the potential to significantly distort any regression model\n",
    "\n",
    "#### There are different types of outliers:\n",
    "- Global Outliers - A data point is considered a global outlier if its value is far outside the entirety of the data set in which it is found \n",
    "- Contextual (Conditional) Outliers - Contextual outliers are data points whose value significantly deviates from other data within the same context\n",
    "- Collective Outliers - A subset of data points within a data set is considered anomalous if those values as a collection deviate significantly from the entire data set, but the values of the individual data points are not themselves anomalous in either a contextual or global sense"
   ]
  },
  {
   "cell_type": "markdown",
   "metadata": {},
   "source": [
    "### Since neither forested land area nor protected area is normally distributed, we will need to log transform these variables in order to calculate a correlation coefficient. Log transform the variables and show the transformed distributions in a histogram."
   ]
  },
  {
   "cell_type": "code",
   "execution_count": 44,
   "metadata": {},
   "outputs": [],
   "source": [
    "forest_1990 = forest_area.groupby('Country')['1990'].sum()\n",
    "protected_1990 = protected_area.groupby('Country')['1990'].sum()"
   ]
  },
  {
   "cell_type": "code",
   "execution_count": 45,
   "metadata": {},
   "outputs": [
    {
     "data": {
      "text/html": [
       "<div>\n",
       "<style scoped>\n",
       "    .dataframe tbody tr th:only-of-type {\n",
       "        vertical-align: middle;\n",
       "    }\n",
       "\n",
       "    .dataframe tbody tr th {\n",
       "        vertical-align: top;\n",
       "    }\n",
       "\n",
       "    .dataframe thead th {\n",
       "        text-align: right;\n",
       "    }\n",
       "</style>\n",
       "<table border=\"1\" class=\"dataframe\">\n",
       "  <thead>\n",
       "    <tr style=\"text-align: right;\">\n",
       "      <th></th>\n",
       "      <th>1990</th>\n",
       "      <th>1990</th>\n",
       "    </tr>\n",
       "    <tr>\n",
       "      <th>Country</th>\n",
       "      <th></th>\n",
       "      <th></th>\n",
       "    </tr>\n",
       "  </thead>\n",
       "  <tbody>\n",
       "    <tr>\n",
       "      <th>Afghanistan</th>\n",
       "      <td>2.1</td>\n",
       "      <td>0.36</td>\n",
       "    </tr>\n",
       "    <tr>\n",
       "      <th>Albania</th>\n",
       "      <td>28.8</td>\n",
       "      <td>0.15</td>\n",
       "    </tr>\n",
       "    <tr>\n",
       "      <th>Algeria</th>\n",
       "      <td>0.7</td>\n",
       "      <td>5.97</td>\n",
       "    </tr>\n",
       "    <tr>\n",
       "      <th>American Samoa</th>\n",
       "      <td>90.0</td>\n",
       "      <td>0.06</td>\n",
       "    </tr>\n",
       "    <tr>\n",
       "      <th>Andorra</th>\n",
       "      <td>35.6</td>\n",
       "      <td>5.53</td>\n",
       "    </tr>\n",
       "  </tbody>\n",
       "</table>\n",
       "</div>"
      ],
      "text/plain": [
       "                1990  1990\n",
       "Country                   \n",
       "Afghanistan      2.1  0.36\n",
       "Albania         28.8  0.15\n",
       "Algeria          0.7  5.97\n",
       "American Samoa  90.0  0.06\n",
       "Andorra         35.6  5.53"
      ]
     },
     "execution_count": 45,
     "metadata": {},
     "output_type": "execute_result"
    }
   ],
   "source": [
    "merged = pd.concat([forest_1990, protected_1990],axis=1)\n",
    "merged = merged.replace(0.0, 0.0001)\n",
    "merged.head()"
   ]
  },
  {
   "cell_type": "code",
   "execution_count": 46,
   "metadata": {},
   "outputs": [],
   "source": [
    "merged.columns = ['forest 1990', 'protected 1990']\n"
   ]
  },
  {
   "cell_type": "code",
   "execution_count": 47,
   "metadata": {},
   "outputs": [
    {
     "data": {
      "text/html": [
       "<div>\n",
       "<style scoped>\n",
       "    .dataframe tbody tr th:only-of-type {\n",
       "        vertical-align: middle;\n",
       "    }\n",
       "\n",
       "    .dataframe tbody tr th {\n",
       "        vertical-align: top;\n",
       "    }\n",
       "\n",
       "    .dataframe thead th {\n",
       "        text-align: right;\n",
       "    }\n",
       "</style>\n",
       "<table border=\"1\" class=\"dataframe\">\n",
       "  <thead>\n",
       "    <tr style=\"text-align: right;\">\n",
       "      <th></th>\n",
       "      <th>forest 1990</th>\n",
       "      <th>protected 1990</th>\n",
       "    </tr>\n",
       "    <tr>\n",
       "      <th>Country</th>\n",
       "      <th></th>\n",
       "      <th></th>\n",
       "    </tr>\n",
       "  </thead>\n",
       "  <tbody>\n",
       "    <tr>\n",
       "      <th>Afghanistan</th>\n",
       "      <td>0.741937</td>\n",
       "      <td>-1.021651</td>\n",
       "    </tr>\n",
       "    <tr>\n",
       "      <th>Albania</th>\n",
       "      <td>3.360375</td>\n",
       "      <td>-1.897120</td>\n",
       "    </tr>\n",
       "    <tr>\n",
       "      <th>Algeria</th>\n",
       "      <td>-0.356675</td>\n",
       "      <td>1.786747</td>\n",
       "    </tr>\n",
       "    <tr>\n",
       "      <th>American Samoa</th>\n",
       "      <td>4.499810</td>\n",
       "      <td>-2.813411</td>\n",
       "    </tr>\n",
       "    <tr>\n",
       "      <th>Andorra</th>\n",
       "      <td>3.572346</td>\n",
       "      <td>1.710188</td>\n",
       "    </tr>\n",
       "    <tr>\n",
       "      <th>...</th>\n",
       "      <td>...</td>\n",
       "      <td>...</td>\n",
       "    </tr>\n",
       "    <tr>\n",
       "      <th>Western Sahara</th>\n",
       "      <td>0.993252</td>\n",
       "      <td>-9.210340</td>\n",
       "    </tr>\n",
       "    <tr>\n",
       "      <th>Yemen</th>\n",
       "      <td>0.000000</td>\n",
       "      <td>-9.210340</td>\n",
       "    </tr>\n",
       "    <tr>\n",
       "      <th>Yugoslavia [former Socialist Federal Republic]</th>\n",
       "      <td>-9.210340</td>\n",
       "      <td>2.891762</td>\n",
       "    </tr>\n",
       "    <tr>\n",
       "      <th>Zambia</th>\n",
       "      <td>4.262680</td>\n",
       "      <td>3.584907</td>\n",
       "    </tr>\n",
       "    <tr>\n",
       "      <th>Zimbabwe</th>\n",
       "      <td>4.048301</td>\n",
       "      <td>2.827314</td>\n",
       "    </tr>\n",
       "  </tbody>\n",
       "</table>\n",
       "<p>230 rows × 2 columns</p>\n",
       "</div>"
      ],
      "text/plain": [
       "                                                forest 1990  protected 1990\n",
       "Country                                                                    \n",
       "Afghanistan                                        0.741937       -1.021651\n",
       "Albania                                            3.360375       -1.897120\n",
       "Algeria                                           -0.356675        1.786747\n",
       "American Samoa                                     4.499810       -2.813411\n",
       "Andorra                                            3.572346        1.710188\n",
       "...                                                     ...             ...\n",
       "Western Sahara                                     0.993252       -9.210340\n",
       "Yemen                                              0.000000       -9.210340\n",
       "Yugoslavia [former Socialist Federal Republic]    -9.210340        2.891762\n",
       "Zambia                                             4.262680        3.584907\n",
       "Zimbabwe                                           4.048301        2.827314\n",
       "\n",
       "[230 rows x 2 columns]"
      ]
     },
     "execution_count": 47,
     "metadata": {},
     "output_type": "execute_result"
    }
   ],
   "source": [
    "log_transform = merged[['forest 1990','protected 1990']].apply(np.log)\n",
    "log_transform"
   ]
  },
  {
   "cell_type": "code",
   "execution_count": 48,
   "metadata": {},
   "outputs": [
    {
     "data": {
      "text/html": [
       "<div>\n",
       "<style scoped>\n",
       "    .dataframe tbody tr th:only-of-type {\n",
       "        vertical-align: middle;\n",
       "    }\n",
       "\n",
       "    .dataframe tbody tr th {\n",
       "        vertical-align: top;\n",
       "    }\n",
       "\n",
       "    .dataframe thead th {\n",
       "        text-align: right;\n",
       "    }\n",
       "</style>\n",
       "<table border=\"1\" class=\"dataframe\">\n",
       "  <thead>\n",
       "    <tr style=\"text-align: right;\">\n",
       "      <th></th>\n",
       "      <th>forest 1990</th>\n",
       "      <th>protected 1990</th>\n",
       "    </tr>\n",
       "    <tr>\n",
       "      <th>Country</th>\n",
       "      <th></th>\n",
       "      <th></th>\n",
       "    </tr>\n",
       "  </thead>\n",
       "  <tbody>\n",
       "    <tr>\n",
       "      <th>Afghanistan</th>\n",
       "      <td>0.741937</td>\n",
       "      <td>-1.021651</td>\n",
       "    </tr>\n",
       "    <tr>\n",
       "      <th>Albania</th>\n",
       "      <td>3.360375</td>\n",
       "      <td>-1.897120</td>\n",
       "    </tr>\n",
       "    <tr>\n",
       "      <th>Algeria</th>\n",
       "      <td>-0.356675</td>\n",
       "      <td>1.786747</td>\n",
       "    </tr>\n",
       "    <tr>\n",
       "      <th>American Samoa</th>\n",
       "      <td>4.499810</td>\n",
       "      <td>-2.813411</td>\n",
       "    </tr>\n",
       "    <tr>\n",
       "      <th>Andorra</th>\n",
       "      <td>3.572346</td>\n",
       "      <td>1.710188</td>\n",
       "    </tr>\n",
       "    <tr>\n",
       "      <th>...</th>\n",
       "      <td>...</td>\n",
       "      <td>...</td>\n",
       "    </tr>\n",
       "    <tr>\n",
       "      <th>Western Sahara</th>\n",
       "      <td>0.993252</td>\n",
       "      <td>-9.210340</td>\n",
       "    </tr>\n",
       "    <tr>\n",
       "      <th>Yemen</th>\n",
       "      <td>0.000000</td>\n",
       "      <td>-9.210340</td>\n",
       "    </tr>\n",
       "    <tr>\n",
       "      <th>Yugoslavia [former Socialist Federal Republic]</th>\n",
       "      <td>-9.210340</td>\n",
       "      <td>2.891762</td>\n",
       "    </tr>\n",
       "    <tr>\n",
       "      <th>Zambia</th>\n",
       "      <td>4.262680</td>\n",
       "      <td>3.584907</td>\n",
       "    </tr>\n",
       "    <tr>\n",
       "      <th>Zimbabwe</th>\n",
       "      <td>4.048301</td>\n",
       "      <td>2.827314</td>\n",
       "    </tr>\n",
       "  </tbody>\n",
       "</table>\n",
       "<p>230 rows × 2 columns</p>\n",
       "</div>"
      ],
      "text/plain": [
       "                                                forest 1990  protected 1990\n",
       "Country                                                                    \n",
       "Afghanistan                                        0.741937       -1.021651\n",
       "Albania                                            3.360375       -1.897120\n",
       "Algeria                                           -0.356675        1.786747\n",
       "American Samoa                                     4.499810       -2.813411\n",
       "Andorra                                            3.572346        1.710188\n",
       "...                                                     ...             ...\n",
       "Western Sahara                                     0.993252       -9.210340\n",
       "Yemen                                              0.000000       -9.210340\n",
       "Yugoslavia [former Socialist Federal Republic]    -9.210340        2.891762\n",
       "Zambia                                             4.262680        3.584907\n",
       "Zimbabwe                                           4.048301        2.827314\n",
       "\n",
       "[230 rows x 2 columns]"
      ]
     },
     "execution_count": 48,
     "metadata": {},
     "output_type": "execute_result"
    }
   ],
   "source": [
    "log_trans = log_transform[~log_transform.isin([np.nan, np.inf, -np.inf])]\n",
    "log_trans"
   ]
  },
  {
   "cell_type": "code",
   "execution_count": 49,
   "metadata": {},
   "outputs": [
    {
     "data": {
      "text/plain": [
       "[Text(0.5, 0, 'Forested'),\n",
       " Text(0, 0.5, 'Frequency'),\n",
       " Text(0.5, 1.0, 'Forested Land (Transformed distribution)')]"
      ]
     },
     "execution_count": 49,
     "metadata": {},
     "output_type": "execute_result"
    },
    {
     "data": {
      "image/png": "[encoded data removed]",
      "text/plain": [
       "<Figure size 864x576 with 1 Axes>"
      ]
     },
     "metadata": {},
     "output_type": "display_data"
    }
   ],
   "source": [
    "f_log_1990 = sns.histplot(log_trans[log_trans['forest 1990']>0]['forest 1990'], \n",
    "                          bins=10, kde=True, color='green')\n",
    "f_log_1990.set(xlabel='Forested', ylabel='Frequency', title=\"Forested Land (Transformed distribution)\")"
   ]
  },
  {
   "cell_type": "code",
   "execution_count": 50,
   "metadata": {},
   "outputs": [
    {
     "data": {
      "text/plain": [
       "[Text(0.5, 0, 'Protected'),\n",
       " Text(0, 0.5, 'Frequency'),\n",
       " Text(0.5, 1.0, 'Protected Land (Transformed distribution)')]"
      ]
     },
     "execution_count": 50,
     "metadata": {},
     "output_type": "execute_result"
    },
    {
     "data": {
      "image/png": "[encoded data removed]",
      "text/plain": [
       "<Figure size 864x576 with 1 Axes>"
      ]
     },
     "metadata": {},
     "output_type": "display_data"
    }
   ],
   "source": [
    "p_log_1990 = sns.histplot(log_trans[log_trans['protected 1990']>0]['protected 1990'],\n",
    "                          bins=10, kde=True, color='brown')\n",
    "p_log_1990.set(xlabel='Protected', ylabel='Frequency', title=\"Protected Land (Transformed distribution)\")"
   ]
  },
  {
   "cell_type": "markdown",
   "metadata": {},
   "source": [
    "### Insights\n",
    "- Forested Land graph is a representation of a negatively skewed distribution as it can be seen on the graph that there are more values on the right side of the graph. \n",
    "- Protected Land graph is slighty close to being a representation of a normal distribution since we can see from the graph that there are more values around the center than there are towards the left and right sides of the graph.  "
   ]
  },
  {
   "cell_type": "markdown",
   "metadata": {},
   "source": [
    "## Hypothesis Test\n",
    "\n",
    "#### Null Hypothesis: \n",
    "- There is no statistically significant linear relationship between area covered by forest and land protected.\n",
    "\n",
    "#### Alternative Hypothesis: \n",
    "- There is a statistically significant linear relationship between area covered by forest and land protected.  "
   ]
  },
  {
   "cell_type": "markdown",
   "metadata": {},
   "source": [
    "### Calculating the Pearson correlation coefficient (and its corresponding p value) to determine the nature of the relationship between proportion of land area covered by forest and the percentage of area protected (as measured in 1990 and log transformed)"
   ]
  },
  {
   "cell_type": "code",
   "execution_count": 51,
   "metadata": {},
   "outputs": [
    {
     "data": {
      "text/plain": [
       "(0.18034578732922468, 0.0060935905672030635)"
      ]
     },
     "execution_count": 51,
     "metadata": {},
     "output_type": "execute_result"
    }
   ],
   "source": [
    "pearsonr(log_trans['forest 1990'], log_trans['protected 1990'])"
   ]
  },
  {
   "cell_type": "markdown",
   "metadata": {},
   "source": [
    "#### Pearson's correlation coefficient\n",
    "- Pearson's correlation coefficient is the covariance of the two variables divided by the product of their standard deviations\n",
    "\n",
    "#### P-value\n",
    "- A p-value is a statistical measurement used to validate a hypothesis against observed data.\n",
    "- A p-value measures the probability of obtaining the observed results, assuming that the null hypothesis is true.\n",
    "- The lower the p-value, the greater the statistical significance of the observed difference.\n",
    "\n",
    "#### Interpreting the size and direction of the correlation statistic.\n",
    "\n",
    "#### Size\n",
    "- Generally, the greater the absolute value of the Pearson correlation coefficient, the stronger the relationship, in this case we have a positive pearsonr value of 0.18 after tranformation which is closer to 0, moreover a coefficient of zero represents no linear relationship which simply indicates that as one variable increases, there is no tendency in the other variable to either increase or decrease, so there is little to no linear relationship.\n",
    "\n",
    "#### Direction\n",
    "- As this outcome has a positive but close to 0 coefficient, it indicates that when the value of one variable increases, the value of the other variable also tends to increase. Positive relationships produce an upward slope on a scatterplot.\n",
    "\n",
    "#### Signficance\n",
    "- AFTER LOG TRANSFORMATION: pvalue is smaller than the significance level of 0.05 which makes the pvalue significant at a value of 0.006, this indicates strong evidence against the null hypothesis, therefore we reject the null hypothesis in favour of Alternate hypothesis. We can conclude that there is a linear relationship between protected land and forested land."
   ]
  },
  {
   "cell_type": "markdown",
   "metadata": {},
   "source": [
    "### Calculating the Spearman Rank-Order Correlation Coefficient. This test only looks at the order of the categories, not the values. The Spearman Rank-Order Coefficient is therefore not influenced by non-normality of variables or outliers."
   ]
  },
  {
   "cell_type": "code",
   "execution_count": 52,
   "metadata": {},
   "outputs": [
    {
     "data": {
      "text/plain": [
       "SpearmanrResult(correlation=0.07665809022898588, pvalue=0.24688526356961707)"
      ]
     },
     "execution_count": 52,
     "metadata": {},
     "output_type": "execute_result"
    }
   ],
   "source": [
    "spearmanr(log_trans['forest 1990'], log_trans['protected 1990'])"
   ]
  },
  {
   "cell_type": "markdown",
   "metadata": {},
   "source": [
    "#### Spearman's correlation coefficient\n",
    "- Spearman's correlation coefficient, measures the strength and direction of association between two ranked variables\n",
    "\n",
    "#### Interpretation\n",
    "- The closer the spearmans correlation coefficient is to zero, the weaker the association between the ranks. It is clear that the computed value here is very close to 0 which validates a weak association between the ranks.\n",
    "- A p-value of 0.05 or lower is generally considered statistically significant, in this case we have obtained a value of 0.24 which is greater than the statistically significant 0.05, it means that this p-value is not statistically significant and we fail to reject the null hyothesis leading to a conclusion that there is not enough evidence to conclude that there is a linear relationship between protected land and forested land.  "
   ]
  },
  {
   "cell_type": "markdown",
   "metadata": {},
   "source": [
    "### Conclusion"
   ]
  },
  {
   "cell_type": "markdown",
   "metadata": {},
   "source": [
    "- In conclusion of the above analysis, after examining the data we were able to establish that the United States and China are the top 2 countries that contribute the most to Carbon Dioxide emissions. The Carbon Dioxide emissions in these countries kept increasing from 1990 to 2011 as represented by \"CO2 emissions by Country (1990 - 2011)\" line graph. \n",
    "- The pearsonr value was calculated after log transformation, and the pvalue came out significant by a value lower than the significance level.\n",
    "- The Spearmanr value was calculated and the pvalue came out nonsignificant by a value greater than the significance level.\n",
    "- It was also discovered during the pearsonr calculations that there is a linear relationship between Forested and Protected land. "
   ]
  }
 ],
 "metadata": {
  "kernelspec": {
   "display_name": "Python 3 (ipykernel)",
   "language": "python",
   "name": "python3"
  },
  "language_info": {
   "codemirror_mode": {
    "name": "ipython",
    "version": 3
   },
   "file_extension": ".py",
   "mimetype": "text/x-python",
   "name": "python",
   "nbconvert_exporter": "python",
   "pygments_lexer": "ipython3",
   "version": "3.10.4"
  }
 },
 "nbformat": 4,
 "nbformat_minor": 2
}
